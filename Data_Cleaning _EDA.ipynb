{
 "cells": [
  {
   "cell_type": "code",
   "execution_count": 1,
   "metadata": {},
   "outputs": [],
   "source": [
    "import pandas as pd\n",
    "import numpy as np\n",
    "import matplotlib.pyplot as plt\n",
    "import seaborn as sns\n",
    "\n",
    "import wordcloud\n",
    "from wordcloud import WordCloud, STOPWORDS\n",
    "\n",
    "from sklearn.feature_extraction.text import CountVectorizer, ENGLISH_STOP_WORDS\n",
    "\n",
    "from nltk.sentiment.vader import SentimentIntensityAnalyzer"
   ]
  },
  {
   "cell_type": "code",
   "execution_count": 2,
   "metadata": {},
   "outputs": [],
   "source": [
    "# Data from respective disasters\n",
    "\n",
    "tick_fire_df = pd.read_csv('./tick_fire_20191026.csv')\n",
    "saddleridge_fire_df = pd.read_csv('./saddleridge_fire_20191021.csv')\n",
    "kincade_fire_df = pd.read_csv('./kincade_fire_20191023.csv')\n",
    "getty_fire_df = pd.read_csv('./getty_fire_20191028.csv')\n",
    "latuna_fire_df = pd.read_csv('./latuna_fire_tweets_20170901.csv')\n"
   ]
  },
  {
   "cell_type": "code",
   "execution_count": 3,
   "metadata": {},
   "outputs": [],
   "source": [
    "getty_fire_df.columns = ['Unnamed: 0', 'time', 'text', 'long', 'lat']"
   ]
  },
  {
   "cell_type": "code",
   "execution_count": 4,
   "metadata": {},
   "outputs": [],
   "source": [
    "fire_df = pd.concat([tick_fire_df, saddleridge_fire_df, kincade_fire_df, getty_fire_df, latuna_fire_df], sort=True)\n",
    "fire_df = fire_df.drop_duplicates().reset_index(drop=True)"
   ]
  },
  {
   "cell_type": "code",
   "execution_count": 5,
   "metadata": {},
   "outputs": [],
   "source": [
    "fire_df.drop('Unnamed: 0', axis=1, inplace=True)"
   ]
  },
  {
   "cell_type": "code",
   "execution_count": 6,
   "metadata": {},
   "outputs": [],
   "source": [
    "fire_df.drop_duplicates(subset =['text'], inplace=True)"
   ]
  },
  {
   "cell_type": "code",
   "execution_count": 7,
   "metadata": {},
   "outputs": [
    {
     "data": {
      "text/html": [
       "<div>\n",
       "<style scoped>\n",
       "    .dataframe tbody tr th:only-of-type {\n",
       "        vertical-align: middle;\n",
       "    }\n",
       "\n",
       "    .dataframe tbody tr th {\n",
       "        vertical-align: top;\n",
       "    }\n",
       "\n",
       "    .dataframe thead th {\n",
       "        text-align: right;\n",
       "    }\n",
       "</style>\n",
       "<table border=\"1\" class=\"dataframe\">\n",
       "  <thead>\n",
       "    <tr style=\"text-align: right;\">\n",
       "      <th></th>\n",
       "      <th>lat</th>\n",
       "      <th>long</th>\n",
       "      <th>text</th>\n",
       "      <th>time</th>\n",
       "    </tr>\n",
       "  </thead>\n",
       "  <tbody>\n",
       "    <tr>\n",
       "      <td>0</td>\n",
       "      <td>-118.542587</td>\n",
       "      <td>34.391663</td>\n",
       "      <td>b'RT @CBSLA: #LIVE: New flames flare-up near M...</td>\n",
       "      <td>2019-10-28 19:01:05</td>\n",
       "    </tr>\n",
       "    <tr>\n",
       "      <td>1</td>\n",
       "      <td>-118.542587</td>\n",
       "      <td>34.391663</td>\n",
       "      <td>b'RT @PauleyP: Los Angeles is ON FIRE AND BURN...</td>\n",
       "      <td>2019-10-28 19:01:05</td>\n",
       "    </tr>\n",
       "    <tr>\n",
       "      <td>2</td>\n",
       "      <td>-118.542587</td>\n",
       "      <td>34.391663</td>\n",
       "      <td>b'RT @skbaer: @mgafni Last week, PG&amp;amp;E repo...</td>\n",
       "      <td>2019-10-28 19:01:05</td>\n",
       "    </tr>\n",
       "    <tr>\n",
       "      <td>3</td>\n",
       "      <td>-118.542587</td>\n",
       "      <td>34.391663</td>\n",
       "      <td>b'RT @LAist: When driving to safety during a w...</td>\n",
       "      <td>2019-10-28 19:01:04</td>\n",
       "    </tr>\n",
       "    <tr>\n",
       "      <td>4</td>\n",
       "      <td>-118.542587</td>\n",
       "      <td>34.391663</td>\n",
       "      <td>b'It smells like so much smoke here in LA \\xf0...</td>\n",
       "      <td>2019-10-28 19:01:02</td>\n",
       "    </tr>\n",
       "  </tbody>\n",
       "</table>\n",
       "</div>"
      ],
      "text/plain": [
       "          lat       long                                               text  \\\n",
       "0 -118.542587  34.391663  b'RT @CBSLA: #LIVE: New flames flare-up near M...   \n",
       "1 -118.542587  34.391663  b'RT @PauleyP: Los Angeles is ON FIRE AND BURN...   \n",
       "2 -118.542587  34.391663  b'RT @skbaer: @mgafni Last week, PG&amp;E repo...   \n",
       "3 -118.542587  34.391663  b'RT @LAist: When driving to safety during a w...   \n",
       "4 -118.542587  34.391663  b'It smells like so much smoke here in LA \\xf0...   \n",
       "\n",
       "                  time  \n",
       "0  2019-10-28 19:01:05  \n",
       "1  2019-10-28 19:01:05  \n",
       "2  2019-10-28 19:01:05  \n",
       "3  2019-10-28 19:01:04  \n",
       "4  2019-10-28 19:01:02  "
      ]
     },
     "execution_count": 7,
     "metadata": {},
     "output_type": "execute_result"
    }
   ],
   "source": [
    "fire_df.head()"
   ]
  },
  {
   "cell_type": "code",
   "execution_count": 8,
   "metadata": {},
   "outputs": [
    {
     "data": {
      "text/plain": [
       "(36561, 4)"
      ]
     },
     "execution_count": 8,
     "metadata": {},
     "output_type": "execute_result"
    }
   ],
   "source": [
    "fire_df.shape"
   ]
  },
  {
   "cell_type": "code",
   "execution_count": 9,
   "metadata": {},
   "outputs": [
    {
     "data": {
      "text/plain": [
       "0"
      ]
     },
     "execution_count": 9,
     "metadata": {},
     "output_type": "execute_result"
    }
   ],
   "source": [
    "fire_df['text'].isnull().sum()"
   ]
  },
  {
   "cell_type": "code",
   "execution_count": 10,
   "metadata": {},
   "outputs": [],
   "source": [
    "# Create a new column that counts words in 'text' column\n",
    "fire_df['words_count'] = fire_df['text'].apply(lambda x: len(x.split()))"
   ]
  },
  {
   "cell_type": "code",
   "execution_count": 11,
   "metadata": {},
   "outputs": [],
   "source": [
    "# Create a new column that counts chars in 'text' column\n",
    "fire_df['chars_count'] = fire_df['text'].apply(len)"
   ]
  },
  {
   "cell_type": "code",
   "execution_count": 12,
   "metadata": {},
   "outputs": [
    {
     "data": {
      "text/html": [
       "<div>\n",
       "<style scoped>\n",
       "    .dataframe tbody tr th:only-of-type {\n",
       "        vertical-align: middle;\n",
       "    }\n",
       "\n",
       "    .dataframe tbody tr th {\n",
       "        vertical-align: top;\n",
       "    }\n",
       "\n",
       "    .dataframe thead th {\n",
       "        text-align: right;\n",
       "    }\n",
       "</style>\n",
       "<table border=\"1\" class=\"dataframe\">\n",
       "  <thead>\n",
       "    <tr style=\"text-align: right;\">\n",
       "      <th></th>\n",
       "      <th>lat</th>\n",
       "      <th>long</th>\n",
       "      <th>text</th>\n",
       "      <th>time</th>\n",
       "      <th>words_count</th>\n",
       "      <th>chars_count</th>\n",
       "    </tr>\n",
       "  </thead>\n",
       "  <tbody>\n",
       "    <tr>\n",
       "      <td>0</td>\n",
       "      <td>-118.542587</td>\n",
       "      <td>34.391663</td>\n",
       "      <td>b'RT @CBSLA: #LIVE: New flames flare-up near M...</td>\n",
       "      <td>2019-10-28 19:01:05</td>\n",
       "      <td>17</td>\n",
       "      <td>154</td>\n",
       "    </tr>\n",
       "    <tr>\n",
       "      <td>1</td>\n",
       "      <td>-118.542587</td>\n",
       "      <td>34.391663</td>\n",
       "      <td>b'RT @PauleyP: Los Angeles is ON FIRE AND BURN...</td>\n",
       "      <td>2019-10-28 19:01:05</td>\n",
       "      <td>29</td>\n",
       "      <td>154</td>\n",
       "    </tr>\n",
       "    <tr>\n",
       "      <td>2</td>\n",
       "      <td>-118.542587</td>\n",
       "      <td>34.391663</td>\n",
       "      <td>b'RT @skbaer: @mgafni Last week, PG&amp;amp;E repo...</td>\n",
       "      <td>2019-10-28 19:01:05</td>\n",
       "      <td>21</td>\n",
       "      <td>157</td>\n",
       "    </tr>\n",
       "    <tr>\n",
       "      <td>3</td>\n",
       "      <td>-118.542587</td>\n",
       "      <td>34.391663</td>\n",
       "      <td>b'RT @LAist: When driving to safety during a w...</td>\n",
       "      <td>2019-10-28 19:01:04</td>\n",
       "      <td>22</td>\n",
       "      <td>197</td>\n",
       "    </tr>\n",
       "    <tr>\n",
       "      <td>4</td>\n",
       "      <td>-118.542587</td>\n",
       "      <td>34.391663</td>\n",
       "      <td>b'It smells like so much smoke here in LA \\xf0...</td>\n",
       "      <td>2019-10-28 19:01:02</td>\n",
       "      <td>16</td>\n",
       "      <td>88</td>\n",
       "    </tr>\n",
       "  </tbody>\n",
       "</table>\n",
       "</div>"
      ],
      "text/plain": [
       "          lat       long                                               text  \\\n",
       "0 -118.542587  34.391663  b'RT @CBSLA: #LIVE: New flames flare-up near M...   \n",
       "1 -118.542587  34.391663  b'RT @PauleyP: Los Angeles is ON FIRE AND BURN...   \n",
       "2 -118.542587  34.391663  b'RT @skbaer: @mgafni Last week, PG&amp;E repo...   \n",
       "3 -118.542587  34.391663  b'RT @LAist: When driving to safety during a w...   \n",
       "4 -118.542587  34.391663  b'It smells like so much smoke here in LA \\xf0...   \n",
       "\n",
       "                  time  words_count  chars_count  \n",
       "0  2019-10-28 19:01:05           17          154  \n",
       "1  2019-10-28 19:01:05           29          154  \n",
       "2  2019-10-28 19:01:05           21          157  \n",
       "3  2019-10-28 19:01:04           22          197  \n",
       "4  2019-10-28 19:01:02           16           88  "
      ]
     },
     "execution_count": 12,
     "metadata": {},
     "output_type": "execute_result"
    }
   ],
   "source": [
    "fire_df.head()"
   ]
  },
  {
   "cell_type": "code",
   "execution_count": 13,
   "metadata": {},
   "outputs": [
    {
     "ename": "MemoryError",
     "evalue": "",
     "output_type": "error",
     "traceback": [
      "\u001b[1;31m---------------------------------------------------------------------------\u001b[0m",
      "\u001b[1;31mMemoryError\u001b[0m                               Traceback (most recent call last)",
      "\u001b[1;32m<ipython-input-13-31b0cbfa2bba>\u001b[0m in \u001b[0;36m<module>\u001b[1;34m\u001b[0m\n\u001b[0;32m     18\u001b[0m \u001b[0mraw_title\u001b[0m \u001b[1;33m=\u001b[0m \u001b[0mfire_df\u001b[0m\u001b[1;33m[\u001b[0m\u001b[1;34m'text'\u001b[0m\u001b[1;33m]\u001b[0m\u001b[1;33m.\u001b[0m\u001b[0mstr\u001b[0m\u001b[1;33m.\u001b[0m\u001b[0mcat\u001b[0m\u001b[1;33m(\u001b[0m\u001b[1;33m)\u001b[0m\u001b[1;33m\u001b[0m\u001b[1;33m\u001b[0m\u001b[0m\n\u001b[0;32m     19\u001b[0m \u001b[1;33m\u001b[0m\u001b[0m\n\u001b[1;32m---> 20\u001b[1;33m \u001b[0mwc\u001b[0m\u001b[1;33m.\u001b[0m\u001b[0mgenerate\u001b[0m\u001b[1;33m(\u001b[0m\u001b[0mraw_title\u001b[0m\u001b[1;33m)\u001b[0m\u001b[1;33m.\u001b[0m\u001b[0mto_image\u001b[0m\u001b[1;33m(\u001b[0m\u001b[1;33m)\u001b[0m\u001b[1;33m\u001b[0m\u001b[1;33m\u001b[0m\u001b[0m\n\u001b[0m",
      "\u001b[1;32mc:\\users\\sibel\\appdata\\local\\programs\\python\\python37\\lib\\site-packages\\wordcloud\\wordcloud.py\u001b[0m in \u001b[0;36mgenerate\u001b[1;34m(self, text)\u001b[0m\n\u001b[0;32m    603\u001b[0m         \u001b[0mself\u001b[0m\u001b[1;33m\u001b[0m\u001b[1;33m\u001b[0m\u001b[0m\n\u001b[0;32m    604\u001b[0m         \"\"\"\n\u001b[1;32m--> 605\u001b[1;33m         \u001b[1;32mreturn\u001b[0m \u001b[0mself\u001b[0m\u001b[1;33m.\u001b[0m\u001b[0mgenerate_from_text\u001b[0m\u001b[1;33m(\u001b[0m\u001b[0mtext\u001b[0m\u001b[1;33m)\u001b[0m\u001b[1;33m\u001b[0m\u001b[1;33m\u001b[0m\u001b[0m\n\u001b[0m\u001b[0;32m    606\u001b[0m \u001b[1;33m\u001b[0m\u001b[0m\n\u001b[0;32m    607\u001b[0m     \u001b[1;32mdef\u001b[0m \u001b[0m_check_generated\u001b[0m\u001b[1;33m(\u001b[0m\u001b[0mself\u001b[0m\u001b[1;33m)\u001b[0m\u001b[1;33m:\u001b[0m\u001b[1;33m\u001b[0m\u001b[1;33m\u001b[0m\u001b[0m\n",
      "\u001b[1;32mc:\\users\\sibel\\appdata\\local\\programs\\python\\python37\\lib\\site-packages\\wordcloud\\wordcloud.py\u001b[0m in \u001b[0;36mgenerate_from_text\u001b[1;34m(self, text)\u001b[0m\n\u001b[0;32m    584\u001b[0m         \u001b[0mself\u001b[0m\u001b[1;33m\u001b[0m\u001b[1;33m\u001b[0m\u001b[0m\n\u001b[0;32m    585\u001b[0m         \"\"\"\n\u001b[1;32m--> 586\u001b[1;33m         \u001b[0mwords\u001b[0m \u001b[1;33m=\u001b[0m \u001b[0mself\u001b[0m\u001b[1;33m.\u001b[0m\u001b[0mprocess_text\u001b[0m\u001b[1;33m(\u001b[0m\u001b[0mtext\u001b[0m\u001b[1;33m)\u001b[0m\u001b[1;33m\u001b[0m\u001b[1;33m\u001b[0m\u001b[0m\n\u001b[0m\u001b[0;32m    587\u001b[0m         \u001b[0mself\u001b[0m\u001b[1;33m.\u001b[0m\u001b[0mgenerate_from_frequencies\u001b[0m\u001b[1;33m(\u001b[0m\u001b[0mwords\u001b[0m\u001b[1;33m)\u001b[0m\u001b[1;33m\u001b[0m\u001b[1;33m\u001b[0m\u001b[0m\n\u001b[0;32m    588\u001b[0m         \u001b[1;32mreturn\u001b[0m \u001b[0mself\u001b[0m\u001b[1;33m\u001b[0m\u001b[1;33m\u001b[0m\u001b[0m\n",
      "\u001b[1;32mc:\\users\\sibel\\appdata\\local\\programs\\python\\python37\\lib\\site-packages\\wordcloud\\wordcloud.py\u001b[0m in \u001b[0;36mprocess_text\u001b[1;34m(self, text)\u001b[0m\n\u001b[0;32m    561\u001b[0m \u001b[1;33m\u001b[0m\u001b[0m\n\u001b[0;32m    562\u001b[0m         \u001b[1;32mif\u001b[0m \u001b[0mself\u001b[0m\u001b[1;33m.\u001b[0m\u001b[0mcollocations\u001b[0m\u001b[1;33m:\u001b[0m\u001b[1;33m\u001b[0m\u001b[1;33m\u001b[0m\u001b[0m\n\u001b[1;32m--> 563\u001b[1;33m             \u001b[0mword_counts\u001b[0m \u001b[1;33m=\u001b[0m \u001b[0munigrams_and_bigrams\u001b[0m\u001b[1;33m(\u001b[0m\u001b[0mwords\u001b[0m\u001b[1;33m,\u001b[0m \u001b[0mself\u001b[0m\u001b[1;33m.\u001b[0m\u001b[0mnormalize_plurals\u001b[0m\u001b[1;33m)\u001b[0m\u001b[1;33m\u001b[0m\u001b[1;33m\u001b[0m\u001b[0m\n\u001b[0m\u001b[0;32m    564\u001b[0m         \u001b[1;32melse\u001b[0m\u001b[1;33m:\u001b[0m\u001b[1;33m\u001b[0m\u001b[1;33m\u001b[0m\u001b[0m\n\u001b[0;32m    565\u001b[0m             \u001b[0mword_counts\u001b[0m\u001b[1;33m,\u001b[0m \u001b[0m_\u001b[0m \u001b[1;33m=\u001b[0m \u001b[0mprocess_tokens\u001b[0m\u001b[1;33m(\u001b[0m\u001b[0mwords\u001b[0m\u001b[1;33m,\u001b[0m \u001b[0mself\u001b[0m\u001b[1;33m.\u001b[0m\u001b[0mnormalize_plurals\u001b[0m\u001b[1;33m)\u001b[0m\u001b[1;33m\u001b[0m\u001b[1;33m\u001b[0m\u001b[0m\n",
      "\u001b[1;32mc:\\users\\sibel\\appdata\\local\\programs\\python\\python37\\lib\\site-packages\\wordcloud\\tokenization.py\u001b[0m in \u001b[0;36munigrams_and_bigrams\u001b[1;34m(words, normalize_plurals)\u001b[0m\n\u001b[0;32m     45\u001b[0m     counts_bigrams, standard_form_bigrams = process_tokens(\n\u001b[0;32m     46\u001b[0m         \u001b[1;33m[\u001b[0m\u001b[1;34m\" \"\u001b[0m\u001b[1;33m.\u001b[0m\u001b[0mjoin\u001b[0m\u001b[1;33m(\u001b[0m\u001b[0mbigram\u001b[0m\u001b[1;33m)\u001b[0m \u001b[1;32mfor\u001b[0m \u001b[0mbigram\u001b[0m \u001b[1;32min\u001b[0m \u001b[0mbigrams\u001b[0m\u001b[1;33m]\u001b[0m\u001b[1;33m,\u001b[0m\u001b[1;33m\u001b[0m\u001b[1;33m\u001b[0m\u001b[0m\n\u001b[1;32m---> 47\u001b[1;33m         normalize_plurals=normalize_plurals)\n\u001b[0m\u001b[0;32m     48\u001b[0m     \u001b[1;31m# create a copy of counts_unigram so the score computation is not changed\u001b[0m\u001b[1;33m\u001b[0m\u001b[1;33m\u001b[0m\u001b[1;33m\u001b[0m\u001b[0m\n\u001b[0;32m     49\u001b[0m     \u001b[0mcounts\u001b[0m \u001b[1;33m=\u001b[0m \u001b[0mcounts_unigrams\u001b[0m\u001b[1;33m.\u001b[0m\u001b[0mcopy\u001b[0m\u001b[1;33m(\u001b[0m\u001b[1;33m)\u001b[0m\u001b[1;33m\u001b[0m\u001b[1;33m\u001b[0m\u001b[0m\n",
      "\u001b[1;32mc:\\users\\sibel\\appdata\\local\\programs\\python\\python37\\lib\\site-packages\\wordcloud\\tokenization.py\u001b[0m in \u001b[0;36mprocess_tokens\u001b[1;34m(words, normalize_plurals)\u001b[0m\n\u001b[0;32m    105\u001b[0m         \u001b[0mword_lower\u001b[0m \u001b[1;33m=\u001b[0m \u001b[0mword\u001b[0m\u001b[1;33m.\u001b[0m\u001b[0mlower\u001b[0m\u001b[1;33m(\u001b[0m\u001b[1;33m)\u001b[0m\u001b[1;33m\u001b[0m\u001b[1;33m\u001b[0m\u001b[0m\n\u001b[0;32m    106\u001b[0m         \u001b[1;31m# get dict of cases for word_lower\u001b[0m\u001b[1;33m\u001b[0m\u001b[1;33m\u001b[0m\u001b[1;33m\u001b[0m\u001b[0m\n\u001b[1;32m--> 107\u001b[1;33m         \u001b[0mcase_dict\u001b[0m \u001b[1;33m=\u001b[0m \u001b[0md\u001b[0m\u001b[1;33m[\u001b[0m\u001b[0mword_lower\u001b[0m\u001b[1;33m]\u001b[0m\u001b[1;33m\u001b[0m\u001b[1;33m\u001b[0m\u001b[0m\n\u001b[0m\u001b[0;32m    108\u001b[0m         \u001b[1;31m# increase this case\u001b[0m\u001b[1;33m\u001b[0m\u001b[1;33m\u001b[0m\u001b[1;33m\u001b[0m\u001b[0m\n\u001b[0;32m    109\u001b[0m         \u001b[0mcase_dict\u001b[0m\u001b[1;33m[\u001b[0m\u001b[0mword\u001b[0m\u001b[1;33m]\u001b[0m \u001b[1;33m=\u001b[0m \u001b[0mcase_dict\u001b[0m\u001b[1;33m.\u001b[0m\u001b[0mget\u001b[0m\u001b[1;33m(\u001b[0m\u001b[0mword\u001b[0m\u001b[1;33m,\u001b[0m \u001b[1;36m0\u001b[0m\u001b[1;33m)\u001b[0m \u001b[1;33m+\u001b[0m \u001b[1;36m1\u001b[0m\u001b[1;33m\u001b[0m\u001b[1;33m\u001b[0m\u001b[0m\n",
      "\u001b[1;31mMemoryError\u001b[0m: "
     ]
    }
   ],
   "source": [
    "custom_stop = list(ENGLISH_STOP_WORDS)\n",
    "custom_stop.extend([\"b'RT\", \"xe2\", \"x80\", \"x99\", \"xf0\", \"htpps\", \"xa6\", \"x9f\", \"Getty Center\", \"Los Angeles\",\n",
    "                    \"Los Angele\", \"Getty\", \"x99m\", \"x99s\", \"Los\", \"Angele\", \"taco truck\", \"outfit\", \"taco\", \"truck\",\n",
    "                   \"http\", \"https\", \"x94\", \"xa5\", \"nhttp\", \"nhttps\", \"b'\", \"Center\", \"amp\", \"GettyFire\", \"RT\", \"www\",\n",
    "                   \"instagram\", \"xa6'b'RT\", \"xa6'b'\", \"xa6'RT\", \"xb8\", \"x9d\", \"xef\", \"x8f\"])\n",
    "\n",
    "wc = wordcloud.WordCloud(\n",
    "        max_words = 300,\n",
    "        stopwords = custom_stop,\n",
    "        background_color = 'white',\n",
    "        width = 700,\n",
    "        height = 350,\n",
    "        contour_width=3, \n",
    "        contour_color='steelblue',\n",
    "        min_font_size = 10\n",
    "        )\n",
    "\n",
    "raw_title = fire_df['text'].str.cat()\n",
    "    \n",
    "wc.generate(raw_title).to_image()"
   ]
  },
  {
   "cell_type": "code",
   "execution_count": null,
   "metadata": {},
   "outputs": [],
   "source": [
    "X = fire_df['text']"
   ]
  },
  {
   "cell_type": "code",
   "execution_count": null,
   "metadata": {},
   "outputs": [],
   "source": [
    "cvec = CountVectorizer(stop_words=custom_stop, ngram_range=(1,1), min_df = 100, max_df = .90)\n",
    "\n",
    "words_df = pd.DataFrame(\n",
    "    cvec.fit_transform(X).todense(),\n",
    "    columns=cvec.get_feature_names()\n",
    ")\n",
    "\n",
    "words_df.head()"
   ]
  },
  {
   "cell_type": "code",
   "execution_count": null,
   "metadata": {},
   "outputs": [],
   "source": [
    "top_30 = words_df.sum().sort_values(ascending=True).tail(30)\n",
    "plt.title('Top Thirty Words', fontsize=18)\n",
    "top_30.plot.barh(color='#0C2F39', figsize= (10,8));"
   ]
  },
  {
   "cell_type": "code",
   "execution_count": null,
   "metadata": {},
   "outputs": [],
   "source": [
    "cvec = CountVectorizer(stop_words=custom_stop, ngram_range=(2,2), min_df = 100, max_df = .90)\n",
    "\n",
    "bigrams_df = pd.DataFrame(\n",
    "    cvec.fit_transform(X).todense(),\n",
    "    columns=cvec.get_feature_names()\n",
    ")\n",
    "\n",
    "bigrams_df.head()"
   ]
  },
  {
   "cell_type": "code",
   "execution_count": null,
   "metadata": {},
   "outputs": [],
   "source": [
    "top_30_bigrams = bigrams_df.sum().sort_values(ascending=True).tail(30)\n",
    "plt.title('Top Thirty Bi-grams', fontsize=18)\n",
    "top_30_bigrams.plot.barh(color='#0C2F39', figsize= (10,8));"
   ]
  },
  {
   "cell_type": "code",
   "execution_count": null,
   "metadata": {},
   "outputs": [],
   "source": [
    "cvec = CountVectorizer(stop_words=custom_stop, ngram_range=(3,3), min_df = 100, max_df = .90)\n",
    "\n",
    "trigrams_df = pd.DataFrame(\n",
    "    cvec.fit_transform(X).todense(),\n",
    "    columns=cvec.get_feature_names()\n",
    ")\n",
    "\n",
    "trigrams_df.head()"
   ]
  },
  {
   "cell_type": "code",
   "execution_count": null,
   "metadata": {},
   "outputs": [],
   "source": [
    "top_30_trigrams = trigrams_df.sum().sort_values(ascending=True).tail(30)\n",
    "plt.title('Top Thirty Tri-grams', fontsize=18)\n",
    "top_30_trigrams.plot.barh(color='#0C2F39', figsize= (10,8));"
   ]
  },
  {
   "cell_type": "code",
   "execution_count": null,
   "metadata": {},
   "outputs": [],
   "source": [
    "cvec = CountVectorizer(stop_words=custom_stop, ngram_range=(4,4), min_df = 100, max_df = .90)\n",
    "\n",
    "quadgrams_df = pd.DataFrame(\n",
    "    cvec.fit_transform(X).todense(),\n",
    "    columns=cvec.get_feature_names()\n",
    ")\n",
    "\n",
    "quadgrams_df.head()"
   ]
  },
  {
   "cell_type": "code",
   "execution_count": null,
   "metadata": {},
   "outputs": [],
   "source": [
    "top_30_quadgrams = quadgrams_df.sum().sort_values(ascending=True).tail(30)\n",
    "plt.title('Top Thirty Quad-grams', fontsize=18)\n",
    "top_30_quadgrams.plot.barh(color='#0C2F39', figsize= (10,8));"
   ]
  },
  {
   "cell_type": "code",
   "execution_count": null,
   "metadata": {},
   "outputs": [],
   "source": [
    "from nltk.sentiment.vader import SentimentIntensityAnalyzer"
   ]
  },
  {
   "cell_type": "code",
   "execution_count": null,
   "metadata": {},
   "outputs": [],
   "source": [
    "# instantiate the sentiment analyzer\n",
    "sia = SentimentIntensityAnalyzer()"
   ]
  },
  {
   "cell_type": "code",
   "execution_count": null,
   "metadata": {},
   "outputs": [],
   "source": [
    "# Write a function to get the compound sentiment scores for a post\n",
    "def get_compound(text):\n",
    "    return sia.polarity_scores(text)['compound']"
   ]
  },
  {
   "cell_type": "code",
   "execution_count": null,
   "metadata": {},
   "outputs": [],
   "source": [
    "# apply the function to the entire subreddit dataframe\n",
    "fire_df['sentiment'] = fire_df['text'].apply(get_compound)"
   ]
  },
  {
   "cell_type": "code",
   "execution_count": null,
   "metadata": {},
   "outputs": [],
   "source": [
    "fire_df.shape"
   ]
  },
  {
   "cell_type": "code",
   "execution_count": null,
   "metadata": {},
   "outputs": [],
   "source": [
    "# look at the distribution of the composite sentiment score\n",
    "fire_df['sentiment'].mean()"
   ]
  },
  {
   "cell_type": "code",
   "execution_count": null,
   "metadata": {},
   "outputs": [],
   "source": [
    "# Composite sentiment score histogram\n",
    "fig, ax = plt.subplots(figsize = (12, 8))\n",
    "plt.title('Composite Sentiments Score Distribution', fontsize=18)\n",
    "\n",
    "fire_df['sentiment'].hist(ax=ax, color='red', label='Fire Tweets', \n",
    "                                                                  bins=15, alpha=0.7, grid=False)\n",
    "\n",
    "ax.legend(loc='best');"
   ]
  },
  {
   "cell_type": "code",
   "execution_count": null,
   "metadata": {},
   "outputs": [],
   "source": []
  }
 ],
 "metadata": {
  "kernelspec": {
   "display_name": "Python 3",
   "language": "python",
   "name": "python3"
  },
  "language_info": {
   "codemirror_mode": {
    "name": "ipython",
    "version": 3
   },
   "file_extension": ".py",
   "mimetype": "text/x-python",
   "name": "python",
   "nbconvert_exporter": "python",
   "pygments_lexer": "ipython3",
   "version": "3.7.4"
  }
 },
 "nbformat": 4,
 "nbformat_minor": 2
}
