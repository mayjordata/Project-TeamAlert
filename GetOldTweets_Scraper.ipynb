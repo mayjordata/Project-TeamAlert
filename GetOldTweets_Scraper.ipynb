{
 "cells": [
  {
   "cell_type": "code",
   "execution_count": 1,
   "metadata": {},
   "outputs": [],
   "source": [
    "# !pip install GetOldTweets3\n",
    "import GetOldTweets3 as got\n",
    "import codecs\n",
    "import pandas as pd"
   ]
  },
  {
   "cell_type": "code",
   "execution_count": 2,
   "metadata": {},
   "outputs": [],
   "source": [
    "def scrape_tweets(scrape_information):\n",
    "    tweets = got.manager.TweetManager.getTweets(scrape_information)\n",
    "    fire_tweets = []\n",
    "    for tweet in tweets:\n",
    "        scraped_tweets = {}\n",
    "        scraped_tweets['tweet'] = tweet.text\n",
    "        fire_tweets.append(scraped_tweets)\n",
    "    return fire_tweets"
   ]
  },
  {
   "cell_type": "code",
   "execution_count": null,
   "metadata": {},
   "outputs": [],
   "source": [
    "#setting display setting large to help with visualizations of results\n",
    "pd.set_option('display.max_rows', 500)\n",
    "pd.set_option('display.max_columns', 500)"
   ]
  },
  {
   "cell_type": "code",
   "execution_count": null,
   "metadata": {},
   "outputs": [],
   "source": [
    "keyword = 'earthquake'\n",
    "parameters = got.manager.TweetCriteria()\\\n",
    "                .setMaxTweets(1000)\\\n",
    "                .setSince('2019-08-04')\\\n",
    "                .setUntil('2019-07-08')\\\n",
    "                .setNear('35.6225,-117.6709')\\\n",
    "                .setWithin('60mi');\n",
    "ridgecrest_earthquake_tweets = scrape_tweets(parameters)"
   ]
  },
  {
   "cell_type": "code",
   "execution_count": null,
   "metadata": {},
   "outputs": [],
   "source": [
    "ridgecrest_tweets = pd.DataFrame(ridgecrest_earthquake_tweets)\n",
    "ridgecrest_tweets"
   ]
  },
  {
   "cell_type": "code",
   "execution_count": null,
   "metadata": {},
   "outputs": [],
   "source": [
    "# assign appropriate column names\n",
    "ridgecrest_tweets.columns = ['text']"
   ]
  },
  {
   "cell_type": "code",
   "execution_count": null,
   "metadata": {},
   "outputs": [],
   "source": [
    "ridgecrest_tweets.loc[150:, 'time'] = '2019-07-05 10:00:00'"
   ]
  },
  {
   "cell_type": "code",
   "execution_count": null,
   "metadata": {},
   "outputs": [],
   "source": [
    "ridgecrest_tweets['time']"
   ]
  },
  {
   "cell_type": "code",
   "execution_count": null,
   "metadata": {},
   "outputs": [],
   "source": [
    "# convert datetime string to datetime data type\n",
    "ridgecrest_tweets['time'] = pd.to_datetime(ridgecrest_tweets['time'])"
   ]
  },
  {
   "cell_type": "code",
   "execution_count": null,
   "metadata": {},
   "outputs": [],
   "source": [
    "# assign approximate long and lat values for individual tweets\n",
    "ridgecrest_tweets['long'] = 35.6225\n",
    "ridgecrest_tweets['lat'] = -117.6709"
   ]
  },
  {
   "cell_type": "code",
   "execution_count": null,
   "metadata": {},
   "outputs": [],
   "source": [
    "ridgecrest_tweets"
   ]
  },
  {
   "cell_type": "code",
   "execution_count": null,
   "metadata": {},
   "outputs": [],
   "source": [
    "ridgecrest_tweets.shape"
   ]
  },
  {
   "cell_type": "code",
   "execution_count": null,
   "metadata": {},
   "outputs": [],
   "source": [
    "ridgecrest_tweets.to_csv('ridgecrest_quake_20190704.csv')"
   ]
  },
  {
   "cell_type": "code",
   "execution_count": null,
   "metadata": {},
   "outputs": [],
   "source": [
    "keyword = 'quake'\n",
    "parameters = got.manager.TweetCriteria()\\\n",
    "                .setQuerySearch(keyword)\\\n",
    "                .setMaxTweets(100000)\\\n",
    "                .setSince('2014-08-23')\\\n",
    "                .setUntil('2014-08-28')\\\n",
    "                .setNear('46.3091,-79.4608')\\\n",
    "                .setWithin('60mi');\n",
    "northbay_quake_tweets = scrape_tweets(parameters)"
   ]
  },
  {
   "cell_type": "code",
   "execution_count": null,
   "metadata": {},
   "outputs": [],
   "source": [
    "northbay_quake_tweets = pd.DataFrame(northbay_quake_tweets)\n",
    "northbay_quake_tweets"
   ]
  },
  {
   "cell_type": "code",
   "execution_count": null,
   "metadata": {},
   "outputs": [],
   "source": [
    "keyword = 'flood'\n",
    "parameters = got.manager.TweetCriteria()\\\n",
    "                .setQuerySearch(keyword)\\\n",
    "                .setMaxTweets(10000)\\\n",
    "                .setSince('2017-01-07')\\\n",
    "                .setUntil('2017-01-25')\\\n",
    "                .setNear('38.4504698,-123.1294482')\\\n",
    "                .setWithin('60mi');\n",
    "guerneville_flood_tweets = scrape_tweets(parameters)"
   ]
  },
  {
   "cell_type": "code",
   "execution_count": null,
   "metadata": {},
   "outputs": [],
   "source": [
    "guerneville_flood_tweets = pd.DataFrame(guerneville_flood_tweets)\n",
    "guerneville_flood_tweets"
   ]
  },
  {
   "cell_type": "code",
   "execution_count": null,
   "metadata": {},
   "outputs": [],
   "source": [
    "# assign appropriate column names\n",
    "guerneville_flood_tweets.columns = ['text']"
   ]
  },
  {
   "cell_type": "code",
   "execution_count": null,
   "metadata": {},
   "outputs": [],
   "source": [
    "guerneville_flood_tweets['time'] = '2017-01-07 10:00:00'"
   ]
  },
  {
   "cell_type": "code",
   "execution_count": null,
   "metadata": {},
   "outputs": [],
   "source": [
    "# convert datetime string to datetime data type\n",
    "guerneville_flood_tweets['time'] = pd.to_datetime(guerneville_flood_tweets['time'])"
   ]
  },
  {
   "cell_type": "code",
   "execution_count": null,
   "metadata": {},
   "outputs": [],
   "source": [
    "# assign approximate long and lat values for individual tweets\n",
    "guerneville_flood_tweets['long'] = 38.4504698\n",
    "guerneville_flood_tweets['lat'] = -123.1294482"
   ]
  },
  {
   "cell_type": "code",
   "execution_count": null,
   "metadata": {},
   "outputs": [],
   "source": [
    "guerneville_flood_tweets"
   ]
  },
  {
   "cell_type": "code",
   "execution_count": null,
   "metadata": {},
   "outputs": [],
   "source": [
    "guerneville_flood_tweets.to_csv('guerneville_flood_tweets_20170107.csv')"
   ]
  },
  {
   "cell_type": "code",
   "execution_count": null,
   "metadata": {},
   "outputs": [],
   "source": [
    "keyword = 'fire'\n",
    "parameters = got.manager.TweetCriteria()\\\n",
    "                .setQuerySearch(keyword)\\\n",
    "                .setMaxTweets(10000)\\\n",
    "                .setSince('2017-09-01')\\\n",
    "                .setUntil('2017-09-24')\\\n",
    "                .setNear('34.2322,-118.3617')\\\n",
    "                .setWithin('60mi');\n",
    "latuna_fire_tweets = scrape_tweets(parameters)"
   ]
  },
  {
   "cell_type": "code",
   "execution_count": null,
   "metadata": {},
   "outputs": [],
   "source": [
    "latuna_fire_tweets = pd.DataFrame(latuna_fire_tweets)\n",
    "latuna_fire_tweets"
   ]
  },
  {
   "cell_type": "code",
   "execution_count": null,
   "metadata": {},
   "outputs": [],
   "source": [
    "# assign appropriate column names\n",
    "latuna_fire_tweets.columns = ['text']"
   ]
  },
  {
   "cell_type": "code",
   "execution_count": null,
   "metadata": {},
   "outputs": [],
   "source": [
    "latuna_fire_# convert datetime string to datetime data type\n",
    "latuna_fire_tweets['time'] = pd.to_datetime(latuna_fire_tweets['time'])tweets['time'] = '2017-09-01 10:00:00'"
   ]
  },
  {
   "cell_type": "code",
   "execution_count": null,
   "metadata": {},
   "outputs": [],
   "source": [
    "# convert datetime string to datetime data type\n",
    "latuna_fire_tweets['time'] = pd.to_datetime(latuna_fire_tweets['time'])"
   ]
  },
  {
   "cell_type": "code",
   "execution_count": null,
   "metadata": {},
   "outputs": [],
   "source": [
    "# assign approximate long and lat values for individual tweets\n",
    "latuna_fire_tweets['long'] = 34.2322\n",
    "latuna_fire_tweets['lat'] = -118.3617"
   ]
  },
  {
   "cell_type": "code",
   "execution_count": null,
   "metadata": {},
   "outputs": [],
   "source": [
    "latuna_fire_tweets"
   ]
  },
  {
   "cell_type": "code",
   "execution_count": null,
   "metadata": {},
   "outputs": [],
   "source": [
    "latuna_fire_tweets.to_csv('latuna_fire_tweets_20170901.csv')"
   ]
  },
  {
   "cell_type": "code",
   "execution_count": 3,
   "metadata": {},
   "outputs": [],
   "source": [
    "keyword = ''\n",
    "parameters = got.manager.TweetCriteria()\\\n",
    "                .setMaxTweets(50000)\\\n",
    "                .setSince('2019-08-20')\\\n",
    "                .setUntil('2019-09-06')\\\n",
    "                .setNear('34.1826,-118.4397')\\\n",
    "                .setWithin('60mi');\n",
    "la_tweets = scrape_tweets(parameters)"
   ]
  },
  {
   "cell_type": "code",
   "execution_count": 4,
   "metadata": {},
   "outputs": [
    {
     "data": {
      "text/html": [
       "<div>\n",
       "<style scoped>\n",
       "    .dataframe tbody tr th:only-of-type {\n",
       "        vertical-align: middle;\n",
       "    }\n",
       "\n",
       "    .dataframe tbody tr th {\n",
       "        vertical-align: top;\n",
       "    }\n",
       "\n",
       "    .dataframe thead th {\n",
       "        text-align: right;\n",
       "    }\n",
       "</style>\n",
       "<table border=\"1\" class=\"dataframe\">\n",
       "  <thead>\n",
       "    <tr style=\"text-align: right;\">\n",
       "      <th></th>\n",
       "      <th>tweet</th>\n",
       "    </tr>\n",
       "  </thead>\n",
       "  <tbody>\n",
       "    <tr>\n",
       "      <td>0</td>\n",
       "      <td>pic.twitter.com/3VCVQKyBmm</td>\n",
       "    </tr>\n",
       "    <tr>\n",
       "      <td>1</td>\n",
       "      <td>Tuesday, i saw no more #ghosttownalive founder...</td>\n",
       "    </tr>\n",
       "    <tr>\n",
       "      <td>2</td>\n",
       "      <td>Of course ALL THE ABOVE!!</td>\n",
       "    </tr>\n",
       "    <tr>\n",
       "      <td>3</td>\n",
       "      <td>I'm too busy looking for the talent.</td>\n",
       "    </tr>\n",
       "    <tr>\n",
       "      <td>4</td>\n",
       "      <td>It's a fire going on in Tenaja, Ca pretty much...</td>\n",
       "    </tr>\n",
       "    <tr>\n",
       "      <td>...</td>\n",
       "      <td>...</td>\n",
       "    </tr>\n",
       "    <tr>\n",
       "      <td>49995</td>\n",
       "      <td>I CANT WAIT FOR MY BIG ASS BED TO COME TOMORROW</td>\n",
       "    </tr>\n",
       "    <tr>\n",
       "      <td>49996</td>\n",
       "      <td>I love my sister so much. She’s my right and l...</td>\n",
       "    </tr>\n",
       "    <tr>\n",
       "      <td>49997</td>\n",
       "      <td>The Social media universe is nearly ready to a...</td>\n",
       "    </tr>\n",
       "    <tr>\n",
       "      <td>49998</td>\n",
       "      <td>Stop slacking</td>\n",
       "    </tr>\n",
       "    <tr>\n",
       "      <td>49999</td>\n",
       "      <td>@REALL_SLIM bro you see that?</td>\n",
       "    </tr>\n",
       "  </tbody>\n",
       "</table>\n",
       "<p>50000 rows × 1 columns</p>\n",
       "</div>"
      ],
      "text/plain": [
       "                                                   tweet\n",
       "0                             pic.twitter.com/3VCVQKyBmm\n",
       "1      Tuesday, i saw no more #ghosttownalive founder...\n",
       "2                              Of course ALL THE ABOVE!!\n",
       "3                   I'm too busy looking for the talent.\n",
       "4      It's a fire going on in Tenaja, Ca pretty much...\n",
       "...                                                  ...\n",
       "49995    I CANT WAIT FOR MY BIG ASS BED TO COME TOMORROW\n",
       "49996  I love my sister so much. She’s my right and l...\n",
       "49997  The Social media universe is nearly ready to a...\n",
       "49998                                      Stop slacking\n",
       "49999                      @REALL_SLIM bro you see that?\n",
       "\n",
       "[50000 rows x 1 columns]"
      ]
     },
     "execution_count": 4,
     "metadata": {},
     "output_type": "execute_result"
    }
   ],
   "source": [
    "la_tweets = pd.DataFrame(la_tweets)\n",
    "la_tweets"
   ]
  },
  {
   "cell_type": "code",
   "execution_count": 5,
   "metadata": {},
   "outputs": [],
   "source": [
    "# assign appropriate column names\n",
    "la_tweets.columns = ['text']"
   ]
  },
  {
   "cell_type": "code",
   "execution_count": 6,
   "metadata": {},
   "outputs": [],
   "source": [
    "la_tweets['time'] = '2019-08-20 10:00:00'"
   ]
  },
  {
   "cell_type": "code",
   "execution_count": 7,
   "metadata": {},
   "outputs": [],
   "source": [
    "# convert datetime string to datetime data type\n",
    "la_tweets['time'] = pd.to_datetime(la_tweets['time'])"
   ]
  },
  {
   "cell_type": "code",
   "execution_count": 9,
   "metadata": {},
   "outputs": [],
   "source": [
    "# assign approximate long and lat values for individual tweets\n",
    "la_tweets['long'] = 34.1826\n",
    "la_tweets['lat'] = -118.4397"
   ]
  },
  {
   "cell_type": "code",
   "execution_count": 10,
   "metadata": {},
   "outputs": [
    {
     "data": {
      "text/html": [
       "<div>\n",
       "<style scoped>\n",
       "    .dataframe tbody tr th:only-of-type {\n",
       "        vertical-align: middle;\n",
       "    }\n",
       "\n",
       "    .dataframe tbody tr th {\n",
       "        vertical-align: top;\n",
       "    }\n",
       "\n",
       "    .dataframe thead th {\n",
       "        text-align: right;\n",
       "    }\n",
       "</style>\n",
       "<table border=\"1\" class=\"dataframe\">\n",
       "  <thead>\n",
       "    <tr style=\"text-align: right;\">\n",
       "      <th></th>\n",
       "      <th>text</th>\n",
       "      <th>time</th>\n",
       "      <th>long</th>\n",
       "      <th>lat</th>\n",
       "    </tr>\n",
       "  </thead>\n",
       "  <tbody>\n",
       "    <tr>\n",
       "      <td>0</td>\n",
       "      <td>pic.twitter.com/3VCVQKyBmm</td>\n",
       "      <td>2019-08-20 10:00:00</td>\n",
       "      <td>34.1826</td>\n",
       "      <td>-118.4397</td>\n",
       "    </tr>\n",
       "    <tr>\n",
       "      <td>1</td>\n",
       "      <td>Tuesday, i saw no more #ghosttownalive founder...</td>\n",
       "      <td>2019-08-20 10:00:00</td>\n",
       "      <td>34.1826</td>\n",
       "      <td>-118.4397</td>\n",
       "    </tr>\n",
       "    <tr>\n",
       "      <td>2</td>\n",
       "      <td>Of course ALL THE ABOVE!!</td>\n",
       "      <td>2019-08-20 10:00:00</td>\n",
       "      <td>34.1826</td>\n",
       "      <td>-118.4397</td>\n",
       "    </tr>\n",
       "    <tr>\n",
       "      <td>3</td>\n",
       "      <td>I'm too busy looking for the talent.</td>\n",
       "      <td>2019-08-20 10:00:00</td>\n",
       "      <td>34.1826</td>\n",
       "      <td>-118.4397</td>\n",
       "    </tr>\n",
       "    <tr>\n",
       "      <td>4</td>\n",
       "      <td>It's a fire going on in Tenaja, Ca pretty much...</td>\n",
       "      <td>2019-08-20 10:00:00</td>\n",
       "      <td>34.1826</td>\n",
       "      <td>-118.4397</td>\n",
       "    </tr>\n",
       "    <tr>\n",
       "      <td>...</td>\n",
       "      <td>...</td>\n",
       "      <td>...</td>\n",
       "      <td>...</td>\n",
       "      <td>...</td>\n",
       "    </tr>\n",
       "    <tr>\n",
       "      <td>49995</td>\n",
       "      <td>I CANT WAIT FOR MY BIG ASS BED TO COME TOMORROW</td>\n",
       "      <td>2019-08-20 10:00:00</td>\n",
       "      <td>34.1826</td>\n",
       "      <td>-118.4397</td>\n",
       "    </tr>\n",
       "    <tr>\n",
       "      <td>49996</td>\n",
       "      <td>I love my sister so much. She’s my right and l...</td>\n",
       "      <td>2019-08-20 10:00:00</td>\n",
       "      <td>34.1826</td>\n",
       "      <td>-118.4397</td>\n",
       "    </tr>\n",
       "    <tr>\n",
       "      <td>49997</td>\n",
       "      <td>The Social media universe is nearly ready to a...</td>\n",
       "      <td>2019-08-20 10:00:00</td>\n",
       "      <td>34.1826</td>\n",
       "      <td>-118.4397</td>\n",
       "    </tr>\n",
       "    <tr>\n",
       "      <td>49998</td>\n",
       "      <td>Stop slacking</td>\n",
       "      <td>2019-08-20 10:00:00</td>\n",
       "      <td>34.1826</td>\n",
       "      <td>-118.4397</td>\n",
       "    </tr>\n",
       "    <tr>\n",
       "      <td>49999</td>\n",
       "      <td>@REALL_SLIM bro you see that?</td>\n",
       "      <td>2019-08-20 10:00:00</td>\n",
       "      <td>34.1826</td>\n",
       "      <td>-118.4397</td>\n",
       "    </tr>\n",
       "  </tbody>\n",
       "</table>\n",
       "<p>50000 rows × 4 columns</p>\n",
       "</div>"
      ],
      "text/plain": [
       "                                                    text                time  \\\n",
       "0                             pic.twitter.com/3VCVQKyBmm 2019-08-20 10:00:00   \n",
       "1      Tuesday, i saw no more #ghosttownalive founder... 2019-08-20 10:00:00   \n",
       "2                              Of course ALL THE ABOVE!! 2019-08-20 10:00:00   \n",
       "3                   I'm too busy looking for the talent. 2019-08-20 10:00:00   \n",
       "4      It's a fire going on in Tenaja, Ca pretty much... 2019-08-20 10:00:00   \n",
       "...                                                  ...                 ...   \n",
       "49995    I CANT WAIT FOR MY BIG ASS BED TO COME TOMORROW 2019-08-20 10:00:00   \n",
       "49996  I love my sister so much. She’s my right and l... 2019-08-20 10:00:00   \n",
       "49997  The Social media universe is nearly ready to a... 2019-08-20 10:00:00   \n",
       "49998                                      Stop slacking 2019-08-20 10:00:00   \n",
       "49999                      @REALL_SLIM bro you see that? 2019-08-20 10:00:00   \n",
       "\n",
       "          long       lat  \n",
       "0      34.1826 -118.4397  \n",
       "1      34.1826 -118.4397  \n",
       "2      34.1826 -118.4397  \n",
       "3      34.1826 -118.4397  \n",
       "4      34.1826 -118.4397  \n",
       "...        ...       ...  \n",
       "49995  34.1826 -118.4397  \n",
       "49996  34.1826 -118.4397  \n",
       "49997  34.1826 -118.4397  \n",
       "49998  34.1826 -118.4397  \n",
       "49999  34.1826 -118.4397  \n",
       "\n",
       "[50000 rows x 4 columns]"
      ]
     },
     "execution_count": 10,
     "metadata": {},
     "output_type": "execute_result"
    }
   ],
   "source": [
    "la_tweets"
   ]
  },
  {
   "cell_type": "code",
   "execution_count": 12,
   "metadata": {},
   "outputs": [],
   "source": [
    "la_tweets.drop_duplicates(subset='text', inplace=True)"
   ]
  },
  {
   "cell_type": "code",
   "execution_count": 13,
   "metadata": {},
   "outputs": [
    {
     "data": {
      "text/plain": [
       "(48353, 4)"
      ]
     },
     "execution_count": 13,
     "metadata": {},
     "output_type": "execute_result"
    }
   ],
   "source": [
    "la_tweets.shape"
   ]
  },
  {
   "cell_type": "code",
   "execution_count": 14,
   "metadata": {},
   "outputs": [
    {
     "data": {
      "text/html": [
       "<div>\n",
       "<style scoped>\n",
       "    .dataframe tbody tr th:only-of-type {\n",
       "        vertical-align: middle;\n",
       "    }\n",
       "\n",
       "    .dataframe tbody tr th {\n",
       "        vertical-align: top;\n",
       "    }\n",
       "\n",
       "    .dataframe thead th {\n",
       "        text-align: right;\n",
       "    }\n",
       "</style>\n",
       "<table border=\"1\" class=\"dataframe\">\n",
       "  <thead>\n",
       "    <tr style=\"text-align: right;\">\n",
       "      <th></th>\n",
       "      <th>text</th>\n",
       "      <th>time</th>\n",
       "      <th>long</th>\n",
       "      <th>lat</th>\n",
       "    </tr>\n",
       "  </thead>\n",
       "  <tbody>\n",
       "    <tr>\n",
       "      <td>0</td>\n",
       "      <td>pic.twitter.com/3VCVQKyBmm</td>\n",
       "      <td>2019-08-20 10:00:00</td>\n",
       "      <td>34.1826</td>\n",
       "      <td>-118.4397</td>\n",
       "    </tr>\n",
       "    <tr>\n",
       "      <td>1</td>\n",
       "      <td>Tuesday, i saw no more #ghosttownalive founder...</td>\n",
       "      <td>2019-08-20 10:00:00</td>\n",
       "      <td>34.1826</td>\n",
       "      <td>-118.4397</td>\n",
       "    </tr>\n",
       "    <tr>\n",
       "      <td>2</td>\n",
       "      <td>Of course ALL THE ABOVE!!</td>\n",
       "      <td>2019-08-20 10:00:00</td>\n",
       "      <td>34.1826</td>\n",
       "      <td>-118.4397</td>\n",
       "    </tr>\n",
       "    <tr>\n",
       "      <td>3</td>\n",
       "      <td>I'm too busy looking for the talent.</td>\n",
       "      <td>2019-08-20 10:00:00</td>\n",
       "      <td>34.1826</td>\n",
       "      <td>-118.4397</td>\n",
       "    </tr>\n",
       "    <tr>\n",
       "      <td>4</td>\n",
       "      <td>It's a fire going on in Tenaja, Ca pretty much...</td>\n",
       "      <td>2019-08-20 10:00:00</td>\n",
       "      <td>34.1826</td>\n",
       "      <td>-118.4397</td>\n",
       "    </tr>\n",
       "    <tr>\n",
       "      <td>...</td>\n",
       "      <td>...</td>\n",
       "      <td>...</td>\n",
       "      <td>...</td>\n",
       "      <td>...</td>\n",
       "    </tr>\n",
       "    <tr>\n",
       "      <td>49995</td>\n",
       "      <td>I CANT WAIT FOR MY BIG ASS BED TO COME TOMORROW</td>\n",
       "      <td>2019-08-20 10:00:00</td>\n",
       "      <td>34.1826</td>\n",
       "      <td>-118.4397</td>\n",
       "    </tr>\n",
       "    <tr>\n",
       "      <td>49996</td>\n",
       "      <td>I love my sister so much. She’s my right and l...</td>\n",
       "      <td>2019-08-20 10:00:00</td>\n",
       "      <td>34.1826</td>\n",
       "      <td>-118.4397</td>\n",
       "    </tr>\n",
       "    <tr>\n",
       "      <td>49997</td>\n",
       "      <td>The Social media universe is nearly ready to a...</td>\n",
       "      <td>2019-08-20 10:00:00</td>\n",
       "      <td>34.1826</td>\n",
       "      <td>-118.4397</td>\n",
       "    </tr>\n",
       "    <tr>\n",
       "      <td>49998</td>\n",
       "      <td>Stop slacking</td>\n",
       "      <td>2019-08-20 10:00:00</td>\n",
       "      <td>34.1826</td>\n",
       "      <td>-118.4397</td>\n",
       "    </tr>\n",
       "    <tr>\n",
       "      <td>49999</td>\n",
       "      <td>@REALL_SLIM bro you see that?</td>\n",
       "      <td>2019-08-20 10:00:00</td>\n",
       "      <td>34.1826</td>\n",
       "      <td>-118.4397</td>\n",
       "    </tr>\n",
       "  </tbody>\n",
       "</table>\n",
       "<p>48353 rows × 4 columns</p>\n",
       "</div>"
      ],
      "text/plain": [
       "                                                    text                time  \\\n",
       "0                             pic.twitter.com/3VCVQKyBmm 2019-08-20 10:00:00   \n",
       "1      Tuesday, i saw no more #ghosttownalive founder... 2019-08-20 10:00:00   \n",
       "2                              Of course ALL THE ABOVE!! 2019-08-20 10:00:00   \n",
       "3                   I'm too busy looking for the talent. 2019-08-20 10:00:00   \n",
       "4      It's a fire going on in Tenaja, Ca pretty much... 2019-08-20 10:00:00   \n",
       "...                                                  ...                 ...   \n",
       "49995    I CANT WAIT FOR MY BIG ASS BED TO COME TOMORROW 2019-08-20 10:00:00   \n",
       "49996  I love my sister so much. She’s my right and l... 2019-08-20 10:00:00   \n",
       "49997  The Social media universe is nearly ready to a... 2019-08-20 10:00:00   \n",
       "49998                                      Stop slacking 2019-08-20 10:00:00   \n",
       "49999                      @REALL_SLIM bro you see that? 2019-08-20 10:00:00   \n",
       "\n",
       "          long       lat  \n",
       "0      34.1826 -118.4397  \n",
       "1      34.1826 -118.4397  \n",
       "2      34.1826 -118.4397  \n",
       "3      34.1826 -118.4397  \n",
       "4      34.1826 -118.4397  \n",
       "...        ...       ...  \n",
       "49995  34.1826 -118.4397  \n",
       "49996  34.1826 -118.4397  \n",
       "49997  34.1826 -118.4397  \n",
       "49998  34.1826 -118.4397  \n",
       "49999  34.1826 -118.4397  \n",
       "\n",
       "[48353 rows x 4 columns]"
      ]
     },
     "execution_count": 14,
     "metadata": {},
     "output_type": "execute_result"
    }
   ],
   "source": [
    "la_tweets"
   ]
  },
  {
   "cell_type": "code",
   "execution_count": 22,
   "metadata": {},
   "outputs": [
    {
     "data": {
      "text/html": [
       "<div>\n",
       "<style scoped>\n",
       "    .dataframe tbody tr th:only-of-type {\n",
       "        vertical-align: middle;\n",
       "    }\n",
       "\n",
       "    .dataframe tbody tr th {\n",
       "        vertical-align: top;\n",
       "    }\n",
       "\n",
       "    .dataframe thead th {\n",
       "        text-align: right;\n",
       "    }\n",
       "</style>\n",
       "<table border=\"1\" class=\"dataframe\">\n",
       "  <thead>\n",
       "    <tr style=\"text-align: right;\">\n",
       "      <th></th>\n",
       "      <th>text</th>\n",
       "      <th>time</th>\n",
       "      <th>long</th>\n",
       "      <th>lat</th>\n",
       "    </tr>\n",
       "  </thead>\n",
       "  <tbody>\n",
       "    <tr>\n",
       "      <td>4</td>\n",
       "      <td>It's a fire going on in Tenaja, Ca pretty much...</td>\n",
       "      <td>2019-08-20 10:00:00</td>\n",
       "      <td>34.1826</td>\n",
       "      <td>-118.4397</td>\n",
       "    </tr>\n",
       "    <tr>\n",
       "      <td>161</td>\n",
       "      <td>Due to Unhealthy air Conditions because of the...</td>\n",
       "      <td>2019-08-20 10:00:00</td>\n",
       "      <td>34.1826</td>\n",
       "      <td>-118.4397</td>\n",
       "    </tr>\n",
       "    <tr>\n",
       "      <td>429</td>\n",
       "      <td>https://www.latimes.com/california/story/2019-...</td>\n",
       "      <td>2019-08-20 10:00:00</td>\n",
       "      <td>34.1826</td>\n",
       "      <td>-118.4397</td>\n",
       "    </tr>\n",
       "    <tr>\n",
       "      <td>584</td>\n",
       "      <td>The same guy who got fired for being homophobi...</td>\n",
       "      <td>2019-08-20 10:00:00</td>\n",
       "      <td>34.1826</td>\n",
       "      <td>-118.4397</td>\n",
       "    </tr>\n",
       "    <tr>\n",
       "      <td>1135</td>\n",
       "      <td>@RockstarGames #RockstarGames #GTAPhotographer...</td>\n",
       "      <td>2019-08-20 10:00:00</td>\n",
       "      <td>34.1826</td>\n",
       "      <td>-118.4397</td>\n",
       "    </tr>\n",
       "    <tr>\n",
       "      <td>...</td>\n",
       "      <td>...</td>\n",
       "      <td>...</td>\n",
       "      <td>...</td>\n",
       "      <td>...</td>\n",
       "    </tr>\n",
       "    <tr>\n",
       "      <td>48700</td>\n",
       "      <td>The #TenajaFire near Murrieta, CA is at 1000 a...</td>\n",
       "      <td>2019-08-20 10:00:00</td>\n",
       "      <td>34.1826</td>\n",
       "      <td>-118.4397</td>\n",
       "    </tr>\n",
       "    <tr>\n",
       "      <td>48745</td>\n",
       "      <td>Wow! This fire looks out of control</td>\n",
       "      <td>2019-08-20 10:00:00</td>\n",
       "      <td>34.1826</td>\n",
       "      <td>-118.4397</td>\n",
       "    </tr>\n",
       "    <tr>\n",
       "      <td>49006</td>\n",
       "      <td>That’ll be a fire cat-walk lolhttps://twitter....</td>\n",
       "      <td>2019-08-20 10:00:00</td>\n",
       "      <td>34.1826</td>\n",
       "      <td>-118.4397</td>\n",
       "    </tr>\n",
       "    <tr>\n",
       "      <td>49643</td>\n",
       "      <td>I know I promised every Wednesday, but I’d rat...</td>\n",
       "      <td>2019-08-20 10:00:00</td>\n",
       "      <td>34.1826</td>\n",
       "      <td>-118.4397</td>\n",
       "    </tr>\n",
       "    <tr>\n",
       "      <td>49986</td>\n",
       "      <td>I'm telling you out alive is fire my favorite ...</td>\n",
       "      <td>2019-08-20 10:00:00</td>\n",
       "      <td>34.1826</td>\n",
       "      <td>-118.4397</td>\n",
       "    </tr>\n",
       "  </tbody>\n",
       "</table>\n",
       "<p>165 rows × 4 columns</p>\n",
       "</div>"
      ],
      "text/plain": [
       "                                                    text                time  \\\n",
       "4      It's a fire going on in Tenaja, Ca pretty much... 2019-08-20 10:00:00   \n",
       "161    Due to Unhealthy air Conditions because of the... 2019-08-20 10:00:00   \n",
       "429    https://www.latimes.com/california/story/2019-... 2019-08-20 10:00:00   \n",
       "584    The same guy who got fired for being homophobi... 2019-08-20 10:00:00   \n",
       "1135   @RockstarGames #RockstarGames #GTAPhotographer... 2019-08-20 10:00:00   \n",
       "...                                                  ...                 ...   \n",
       "48700  The #TenajaFire near Murrieta, CA is at 1000 a... 2019-08-20 10:00:00   \n",
       "48745                Wow! This fire looks out of control 2019-08-20 10:00:00   \n",
       "49006  That’ll be a fire cat-walk lolhttps://twitter.... 2019-08-20 10:00:00   \n",
       "49643  I know I promised every Wednesday, but I’d rat... 2019-08-20 10:00:00   \n",
       "49986  I'm telling you out alive is fire my favorite ... 2019-08-20 10:00:00   \n",
       "\n",
       "          long       lat  \n",
       "4      34.1826 -118.4397  \n",
       "161    34.1826 -118.4397  \n",
       "429    34.1826 -118.4397  \n",
       "584    34.1826 -118.4397  \n",
       "1135   34.1826 -118.4397  \n",
       "...        ...       ...  \n",
       "48700  34.1826 -118.4397  \n",
       "48745  34.1826 -118.4397  \n",
       "49006  34.1826 -118.4397  \n",
       "49643  34.1826 -118.4397  \n",
       "49986  34.1826 -118.4397  \n",
       "\n",
       "[165 rows x 4 columns]"
      ]
     },
     "execution_count": 22,
     "metadata": {},
     "output_type": "execute_result"
    }
   ],
   "source": [
    "la_fire_tweets = la_tweets[la_tweets['text'].str.contains('fire')]\n",
    "la_fire_tweets"
   ]
  },
  {
   "cell_type": "code",
   "execution_count": 20,
   "metadata": {},
   "outputs": [],
   "source": [
    "la_nonfire_tweets = la_tweets[~la_tweets['text'].str.contains('fire')]"
   ]
  },
  {
   "cell_type": "code",
   "execution_count": 23,
   "metadata": {},
   "outputs": [],
   "source": [
    "la_nonfire_1600 = la_nonfire_tweets.iloc[:1600, :]"
   ]
  },
  {
   "cell_type": "code",
   "execution_count": 25,
   "metadata": {},
   "outputs": [
    {
     "name": "stderr",
     "output_type": "stream",
     "text": [
      "c:\\users\\sibel\\appdata\\local\\programs\\python\\python37\\lib\\site-packages\\ipykernel_launcher.py:1: SettingWithCopyWarning: \n",
      "A value is trying to be set on a copy of a slice from a DataFrame.\n",
      "Try using .loc[row_indexer,col_indexer] = value instead\n",
      "\n",
      "See the caveats in the documentation: http://pandas.pydata.org/pandas-docs/stable/user_guide/indexing.html#returning-a-view-versus-a-copy\n",
      "  \"\"\"Entry point for launching an IPython kernel.\n"
     ]
    }
   ],
   "source": [
    "la_nonfire_1600['target'] = 0"
   ]
  },
  {
   "cell_type": "code",
   "execution_count": 26,
   "metadata": {},
   "outputs": [
    {
     "data": {
      "text/html": [
       "<div>\n",
       "<style scoped>\n",
       "    .dataframe tbody tr th:only-of-type {\n",
       "        vertical-align: middle;\n",
       "    }\n",
       "\n",
       "    .dataframe tbody tr th {\n",
       "        vertical-align: top;\n",
       "    }\n",
       "\n",
       "    .dataframe thead th {\n",
       "        text-align: right;\n",
       "    }\n",
       "</style>\n",
       "<table border=\"1\" class=\"dataframe\">\n",
       "  <thead>\n",
       "    <tr style=\"text-align: right;\">\n",
       "      <th></th>\n",
       "      <th>text</th>\n",
       "      <th>time</th>\n",
       "      <th>long</th>\n",
       "      <th>lat</th>\n",
       "      <th>target</th>\n",
       "    </tr>\n",
       "  </thead>\n",
       "  <tbody>\n",
       "    <tr>\n",
       "      <td>0</td>\n",
       "      <td>pic.twitter.com/3VCVQKyBmm</td>\n",
       "      <td>2019-08-20 10:00:00</td>\n",
       "      <td>34.1826</td>\n",
       "      <td>-118.4397</td>\n",
       "      <td>0</td>\n",
       "    </tr>\n",
       "    <tr>\n",
       "      <td>1</td>\n",
       "      <td>Tuesday, i saw no more #ghosttownalive founder...</td>\n",
       "      <td>2019-08-20 10:00:00</td>\n",
       "      <td>34.1826</td>\n",
       "      <td>-118.4397</td>\n",
       "      <td>0</td>\n",
       "    </tr>\n",
       "    <tr>\n",
       "      <td>2</td>\n",
       "      <td>Of course ALL THE ABOVE!!</td>\n",
       "      <td>2019-08-20 10:00:00</td>\n",
       "      <td>34.1826</td>\n",
       "      <td>-118.4397</td>\n",
       "      <td>0</td>\n",
       "    </tr>\n",
       "    <tr>\n",
       "      <td>3</td>\n",
       "      <td>I'm too busy looking for the talent.</td>\n",
       "      <td>2019-08-20 10:00:00</td>\n",
       "      <td>34.1826</td>\n",
       "      <td>-118.4397</td>\n",
       "      <td>0</td>\n",
       "    </tr>\n",
       "    <tr>\n",
       "      <td>5</td>\n",
       "      <td>Lucky enough to celebrate the end of Justin’s ...</td>\n",
       "      <td>2019-08-20 10:00:00</td>\n",
       "      <td>34.1826</td>\n",
       "      <td>-118.4397</td>\n",
       "      <td>0</td>\n",
       "    </tr>\n",
       "    <tr>\n",
       "      <td>...</td>\n",
       "      <td>...</td>\n",
       "      <td>...</td>\n",
       "      <td>...</td>\n",
       "      <td>...</td>\n",
       "      <td>...</td>\n",
       "    </tr>\n",
       "    <tr>\n",
       "      <td>1637</td>\n",
       "      <td>Too awesome! Will be shopping for my Titan pup...</td>\n",
       "      <td>2019-08-20 10:00:00</td>\n",
       "      <td>34.1826</td>\n",
       "      <td>-118.4397</td>\n",
       "      <td>0</td>\n",
       "    </tr>\n",
       "    <tr>\n",
       "      <td>1638</td>\n",
       "      <td>This was an awesome find by @MitchTheFort. So ...</td>\n",
       "      <td>2019-08-20 10:00:00</td>\n",
       "      <td>34.1826</td>\n",
       "      <td>-118.4397</td>\n",
       "      <td>0</td>\n",
       "    </tr>\n",
       "    <tr>\n",
       "      <td>1639</td>\n",
       "      <td>Some great company here*. *ignoring 2015https:...</td>\n",
       "      <td>2019-08-20 10:00:00</td>\n",
       "      <td>34.1826</td>\n",
       "      <td>-118.4397</td>\n",
       "      <td>0</td>\n",
       "    </tr>\n",
       "    <tr>\n",
       "      <td>1640</td>\n",
       "      <td>ur coming out im so proud of u</td>\n",
       "      <td>2019-08-20 10:00:00</td>\n",
       "      <td>34.1826</td>\n",
       "      <td>-118.4397</td>\n",
       "      <td>0</td>\n",
       "    </tr>\n",
       "    <tr>\n",
       "      <td>1642</td>\n",
       "      <td>Matt LaFleur’s cut is CLEAN ass hell</td>\n",
       "      <td>2019-08-20 10:00:00</td>\n",
       "      <td>34.1826</td>\n",
       "      <td>-118.4397</td>\n",
       "      <td>0</td>\n",
       "    </tr>\n",
       "  </tbody>\n",
       "</table>\n",
       "<p>1600 rows × 5 columns</p>\n",
       "</div>"
      ],
      "text/plain": [
       "                                                   text                time  \\\n",
       "0                            pic.twitter.com/3VCVQKyBmm 2019-08-20 10:00:00   \n",
       "1     Tuesday, i saw no more #ghosttownalive founder... 2019-08-20 10:00:00   \n",
       "2                             Of course ALL THE ABOVE!! 2019-08-20 10:00:00   \n",
       "3                  I'm too busy looking for the talent. 2019-08-20 10:00:00   \n",
       "5     Lucky enough to celebrate the end of Justin’s ... 2019-08-20 10:00:00   \n",
       "...                                                 ...                 ...   \n",
       "1637  Too awesome! Will be shopping for my Titan pup... 2019-08-20 10:00:00   \n",
       "1638  This was an awesome find by @MitchTheFort. So ... 2019-08-20 10:00:00   \n",
       "1639  Some great company here*. *ignoring 2015https:... 2019-08-20 10:00:00   \n",
       "1640                     ur coming out im so proud of u 2019-08-20 10:00:00   \n",
       "1642               Matt LaFleur’s cut is CLEAN ass hell 2019-08-20 10:00:00   \n",
       "\n",
       "         long       lat  target  \n",
       "0     34.1826 -118.4397       0  \n",
       "1     34.1826 -118.4397       0  \n",
       "2     34.1826 -118.4397       0  \n",
       "3     34.1826 -118.4397       0  \n",
       "5     34.1826 -118.4397       0  \n",
       "...       ...       ...     ...  \n",
       "1637  34.1826 -118.4397       0  \n",
       "1638  34.1826 -118.4397       0  \n",
       "1639  34.1826 -118.4397       0  \n",
       "1640  34.1826 -118.4397       0  \n",
       "1642  34.1826 -118.4397       0  \n",
       "\n",
       "[1600 rows x 5 columns]"
      ]
     },
     "execution_count": 26,
     "metadata": {},
     "output_type": "execute_result"
    }
   ],
   "source": [
    "la_nonfire_1600"
   ]
  },
  {
   "cell_type": "code",
   "execution_count": 28,
   "metadata": {},
   "outputs": [],
   "source": [
    "la_nonfire_1600.to_csv('la_nonfire_1600_tweets.csv', index=False)"
   ]
  },
  {
   "cell_type": "code",
   "execution_count": null,
   "metadata": {},
   "outputs": [],
   "source": []
  }
 ],
 "metadata": {
  "kernelspec": {
   "display_name": "Python 3",
   "language": "python",
   "name": "python3"
  },
  "language_info": {
   "codemirror_mode": {
    "name": "ipython",
    "version": 3
   },
   "file_extension": ".py",
   "mimetype": "text/x-python",
   "name": "python",
   "nbconvert_exporter": "python",
   "pygments_lexer": "ipython3",
   "version": "3.7.4"
  }
 },
 "nbformat": 4,
 "nbformat_minor": 2
}
