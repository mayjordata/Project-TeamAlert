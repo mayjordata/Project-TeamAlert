{
 "cells": [
  {
   "cell_type": "markdown",
   "metadata": {},
   "source": [
    "## Example from Example project 2"
   ]
  },
  {
   "cell_type": "code",
   "execution_count": 30,
   "metadata": {},
   "outputs": [
    {
     "name": "stdout",
     "output_type": "stream",
     "text": [
      "Requirement already satisfied: GetOldTweets3 in c:\\users\\brianna lytle\\anaconda3\\lib\\site-packages (0.0.10)\n",
      "Requirement already satisfied: pyquery>=1.2.10 in c:\\users\\brianna lytle\\anaconda3\\lib\\site-packages (from GetOldTweets3) (1.4.1)\n",
      "Requirement already satisfied: lxml>=3.5.0 in c:\\users\\brianna lytle\\anaconda3\\lib\\site-packages (from GetOldTweets3) (4.4.1)\n",
      "Requirement already satisfied: cssselect>0.7.9 in c:\\users\\brianna lytle\\anaconda3\\lib\\site-packages (from pyquery>=1.2.10->GetOldTweets3) (1.1.0)\n"
     ]
    }
   ],
   "source": [
    "!pip install GetOldTweets3\n",
    "import GetOldTweets3 as got\n",
    "import codecs\n",
    "import pandas as pd"
   ]
  },
  {
   "cell_type": "code",
   "execution_count": 31,
   "metadata": {
    "scrolled": true
   },
   "outputs": [
    {
     "name": "stdout",
     "output_type": "stream",
     "text": [
      "Something very big has just happened!\n",
      "\n",
      "....Matt has my Complete and Total Endorsement, and always has. GET OUT and VOTE on November 5th for your GREAT Governor, @MattBevin!\n",
      "\n",
      "Governor @MattBevin has done a wonderful job for the people of Kentucky! He continues to protect your very important Second Amendment. Matt is Strong on Crime and the Border, he Loves our Great Vets and Military....\n",
      "\n",
      "....He loves our Military and supports our Vets! Democrat Jim Hood will never give us his vote, is anti-Trump and pro-Crooked Hillary. Get out and VOTE for Tate Reeves on November 5th. He has my Complete and Total Endorsement!\n",
      "\n",
      "MISSISSIPPI! There is a VERY important election for Governor on November 5th. I need you to get out and VOTE for our Great Republican nominee, @TateReeves. Tate is Strong on Crime, tough on Illegal Immigration, and will protect your Second Amendment....\n",
      "\n",
      "....Our Republican candidate @EddieRispone is a successful conservative businessman who will stand with me to create jobs and protect your Second Amendment. GET OUT AND VOTE for Eddie, the next Governor of the GREAT State of Louisiana!\n",
      "\n",
      "LOUISIANA! Extreme Democrat John Bel Edwards has sided with Nancy Pelosi and Chuck Schumer to support Sanctuary Cities, High Taxes, and Open Borders. He is crushing Louisiana’s economy and your Second Amendment rights....\n",
      "\n",
      "Where’s the Whistleblower?\n",
      "\n",
      "The Fake Washington Post keeps doing phony stories, with zero sources, that I am concerned with the Impeachment scam. I am not because I did nothing wrong. It is the other side, including Schiff and his made up story, that are concerned. Witch Hunt continues!\n",
      "\n",
      "My Administration is fighting hard to end the Opioid Crisis. Join with us by disposing unused or expired prescription medications at over 4,000 locations across this great Country. Find a location TODAY from 10am-2pm at http://TakeBackDay.DEA.gov . #TakeBackDaypic.twitter.com/xBEyflYYGj\n",
      "\n"
     ]
    }
   ],
   "source": [
    "#extracting the last 10 tweets from Donald Trump and printing them out\n",
    "tweetCriteria = got.manager.TweetCriteria().setUsername('realDonaldTrump').setMaxTweets(10);\n",
    "tweets = got.manager.TweetManager.getTweets(tweetCriteria);\n",
    "for tweet in tweets:\n",
    "    print(tweet.text + '\\n');"
   ]
  },
  {
   "cell_type": "code",
   "execution_count": 32,
   "metadata": {},
   "outputs": [
    {
     "name": "stdout",
     "output_type": "stream",
     "text": [
      "50 years ago, history was written at the Stonewall Inn when New York's LGBT community stood up, spoke out, and started a movement. In 2016 I was proud to designate it as a national monument—a reminder the arc of our history is an arc of progress as long as we keep pushing for it.pic.twitter.com/xyvYfuoJwK\n",
      "\n",
      "What a gift to come across this interview with Julia “Hurricane” Hawkins. I’m as grateful for her life advice as I am impressed by her 100-meter dash time.https://www.nytimes.com/2019/06/20/sports/julia-hawkins-running.html …\n",
      "\n",
      "Now we’re talking! Congrats to Team USA for moving on, and thanks for continuing to make us all proud. #USAhttps://twitter.com/USWNT/status/1141821855898230785 …\n",
      "\n",
      "On Juneteenth, we celebrate our capacity to make real the promise of our founding, that thing inside each of us that says America is not yet finished, that compels all of us to fight for justice and equality until this country we love more closely aligns with our highest ideals.pic.twitter.com/2XAKRuRrbG\n",
      "\n",
      "Outside the Oval Office, I kept a painting of a small crowd huddled around a pocketwatch, waiting for the moment the Emancipation Proclamation took effect. On Juneteenth, we celebrate the anniversary of that news - freedom - reaching slaves in Texas. And something more:pic.twitter.com/kSkLHbfnc3\n",
      "\n"
     ]
    }
   ],
   "source": [
    "#extracting the last 5 tweets from Barak Obama within a specific pair of dates\n",
    "tweetCriteria = got.manager.TweetCriteria().setUsername('barackobama').setMaxTweets(5).setSince('2019-06-01').setUntil('2019-07-01');\n",
    "tweets = got.manager.TweetManager.getTweets(tweetCriteria);\n",
    "for tweet in tweets:\n",
    "    print(tweet.text + '\\n');"
   ]
  },
  {
   "cell_type": "code",
   "execution_count": 33,
   "metadata": {
    "scrolled": true
   },
   "outputs": [
    {
     "name": "stdout",
     "output_type": "stream",
     "text": [
      "[106] Europe's Refugees & American Elections w/ Chris Hedges https://youtu.be/GYqgj3l4r18 via @YouTube\n"
     ]
    }
   ],
   "source": [
    "tweetCriteria = got.manager.TweetCriteria().setQuerySearch('europe refugees')\\\n",
    "                                           .setSince(\"2015-05-01\")\\\n",
    "                                           .setUntil(\"2015-09-30\")\\\n",
    "                                           .setMaxTweets(1)\n",
    "tweet = got.manager.TweetManager.getTweets(tweetCriteria)[0]\n",
    "print(tweet.text)"
   ]
  },
  {
   "cell_type": "code",
   "execution_count": 34,
   "metadata": {
    "scrolled": true
   },
   "outputs": [
    {
     "name": "stdout",
     "output_type": "stream",
     "text": [
      "Here's the latest on the #TickFire: https://www.facebook.com/scvtv/videos/3061289657275855/ …\n",
      "#PressRelease: Public Health Reminds Everyone to Take Precautions During Hot Days. Poor air quality due to the wildfires and continued high temperatures in LA County can create conditions that are unhealthy for sensitive individuals. Learn more https://bit.ly/2JikTnF #TickFire pic.twitter.com/w0dKcZCIQL\n",
      "Between which locations? We don’t believe this is related to the Tick Fire and may be previously planned work\n",
      "5PM Media Briefing for the #TickFire https://www.pscp.tv/w/cIODzzg3Mzc3OTJ8MU9kS3JMTkVqbWtKWFUdJXec9QopoFUGDXxYQlOvH7pv9AwUE5dmOEm1Zwkx …\n",
      "#TickFire Not much smoke is visible anymore some flames active possible flare ups\n"
     ]
    }
   ],
   "source": [
    "parameters = got.manager.TweetCriteria().setQuerySearch('tick fire').setMaxTweets(5).setSince('2019-10-23').setUntil('2019-10-26');\n",
    "tick_tweets = got.manager.TweetManager.getTweets(parameters);\n",
    "for tweet in tick_tweets:\n",
    "    print(tweet.text)"
   ]
  },
  {
   "cell_type": "markdown",
   "metadata": {},
   "source": [
    "We always need to return or call tweets.text because if we call tweets this is the return"
   ]
  },
  {
   "cell_type": "code",
   "execution_count": 35,
   "metadata": {
    "scrolled": true
   },
   "outputs": [
    {
     "data": {
      "text/plain": [
       "[<GetOldTweets3.models.Tweet.Tweet at 0x23bc2df5c48>,\n",
       " <GetOldTweets3.models.Tweet.Tweet at 0x23bc31a20c8>,\n",
       " <GetOldTweets3.models.Tweet.Tweet at 0x23bc31a2ac8>,\n",
       " <GetOldTweets3.models.Tweet.Tweet at 0x23bc32ebd48>,\n",
       " <GetOldTweets3.models.Tweet.Tweet at 0x23bc32ebe48>]"
      ]
     },
     "execution_count": 35,
     "metadata": {},
     "output_type": "execute_result"
    }
   ],
   "source": [
    "tweets"
   ]
  },
  {
   "cell_type": "markdown",
   "metadata": {},
   "source": [
    "# Camp Fire Tweets Scraping"
   ]
  },
  {
   "cell_type": "code",
   "execution_count": 40,
   "metadata": {
    "scrolled": true
   },
   "outputs": [],
   "source": [
    "def tweetsearch(querysearch, sincedate, enddate):\n",
    "    parameters = got.manager.TweetCriteria().setQuerySearch(querysearch)\\\n",
    "    .setSince(sincedate).setUntil(enddate)\\\n",
    "    .setMaxTweets(200)\n",
    "    \n",
    "    tweets = got.manager.TweetManager.getTweets(parameters)\n",
    "    event_tweets = []\n",
    "    \n",
    "    for tweet in tweets:\n",
    "        scraped_tweets = {}\n",
    "        scraped_tweets['tweets'] = tweet.text\n",
    "        \n",
    "        event_tweets.append(scraped_tweets)\n",
    "        event_df = pd.DataFrame(event_tweets)\n",
    "    return(event_df)\n",
    "event_df = tweetsearch('woosley fire', '2018-11-08', '2018-11-22')"
   ]
  },
  {
   "cell_type": "code",
   "execution_count": 41,
   "metadata": {},
   "outputs": [
    {
     "data": {
      "text/html": [
       "<div>\n",
       "<style scoped>\n",
       "    .dataframe tbody tr th:only-of-type {\n",
       "        vertical-align: middle;\n",
       "    }\n",
       "\n",
       "    .dataframe tbody tr th {\n",
       "        vertical-align: top;\n",
       "    }\n",
       "\n",
       "    .dataframe thead th {\n",
       "        text-align: right;\n",
       "    }\n",
       "</style>\n",
       "<table border=\"1\" class=\"dataframe\">\n",
       "  <thead>\n",
       "    <tr style=\"text-align: right;\">\n",
       "      <th></th>\n",
       "      <th>tweets</th>\n",
       "    </tr>\n",
       "  </thead>\n",
       "  <tbody>\n",
       "    <tr>\n",
       "      <td>0</td>\n",
       "      <td>Café Gratitude Thanksgiving (Woosley Fire Vict...</td>\n",
       "    </tr>\n",
       "    <tr>\n",
       "      <td>1</td>\n",
       "      <td>Just saw this foursome hanging out at Station ...</td>\n",
       "    </tr>\n",
       "    <tr>\n",
       "      <td>2</td>\n",
       "      <td>#NowPlaying Nuclear Hot Seat - 11-13-2018: 386...</td>\n",
       "    </tr>\n",
       "    <tr>\n",
       "      <td>3</td>\n",
       "      <td>Just contributed to @WCKitchen, which is feedi...</td>\n",
       "    </tr>\n",
       "    <tr>\n",
       "      <td>4</td>\n",
       "      <td>@realdonaldtrump #campfire #woosleyfire #heroe...</td>\n",
       "    </tr>\n",
       "    <tr>\n",
       "      <td>...</td>\n",
       "      <td>...</td>\n",
       "    </tr>\n",
       "    <tr>\n",
       "      <td>195</td>\n",
       "      <td>So the Woosley fire DID START at a old nuke re...</td>\n",
       "    </tr>\n",
       "    <tr>\n",
       "      <td>196</td>\n",
       "      <td>Peacefully not #WoosleyFire #iniquity</td>\n",
       "    </tr>\n",
       "    <tr>\n",
       "      <td>197</td>\n",
       "      <td>Are Cheese &amp; Cracker’s not the cutest pigmy go...</td>\n",
       "    </tr>\n",
       "    <tr>\n",
       "      <td>198</td>\n",
       "      <td>Right, the Woosley fires are deeper into the v...</td>\n",
       "    </tr>\n",
       "    <tr>\n",
       "      <td>199</td>\n",
       "      <td>Lighting the houseofintuition Mother Earth Can...</td>\n",
       "    </tr>\n",
       "  </tbody>\n",
       "</table>\n",
       "<p>200 rows × 1 columns</p>\n",
       "</div>"
      ],
      "text/plain": [
       "                                                tweets\n",
       "0    Café Gratitude Thanksgiving (Woosley Fire Vict...\n",
       "1    Just saw this foursome hanging out at Station ...\n",
       "2    #NowPlaying Nuclear Hot Seat - 11-13-2018: 386...\n",
       "3    Just contributed to @WCKitchen, which is feedi...\n",
       "4    @realdonaldtrump #campfire #woosleyfire #heroe...\n",
       "..                                                 ...\n",
       "195  So the Woosley fire DID START at a old nuke re...\n",
       "196              Peacefully not #WoosleyFire #iniquity\n",
       "197  Are Cheese & Cracker’s not the cutest pigmy go...\n",
       "198  Right, the Woosley fires are deeper into the v...\n",
       "199  Lighting the houseofintuition Mother Earth Can...\n",
       "\n",
       "[200 rows x 1 columns]"
      ]
     },
     "execution_count": 41,
     "metadata": {},
     "output_type": "execute_result"
    }
   ],
   "source": [
    "event_df"
   ]
  },
  {
   "cell_type": "code",
   "execution_count": null,
   "metadata": {},
   "outputs": [],
   "source": []
  }
 ],
 "metadata": {
  "kernelspec": {
   "display_name": "Python 3",
   "language": "python",
   "name": "python3"
  },
  "language_info": {
   "codemirror_mode": {
    "name": "ipython",
    "version": 3
   },
   "file_extension": ".py",
   "mimetype": "text/x-python",
   "name": "python",
   "nbconvert_exporter": "python",
   "pygments_lexer": "ipython3",
   "version": "3.7.4"
  }
 },
 "nbformat": 4,
 "nbformat_minor": 2
}
