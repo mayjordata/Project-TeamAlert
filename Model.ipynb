{
 "cells": [
  {
   "cell_type": "code",
   "execution_count": 241,
   "metadata": {},
   "outputs": [],
   "source": [
    "# Imports\n",
    "import pandas as pd\n",
    "import numpy as np\n",
    "import matplotlib.pyplot as plt\n",
    "import seaborn as sns\n",
    "\n",
    "from sklearn.model_selection import train_test_split, GridSearchCV\n",
    "from sklearn.feature_extraction.text import CountVectorizer, TfidfVectorizer, TfidfTransformer, ENGLISH_STOP_WORDS\n",
    "from sklearn.linear_model import LogisticRegression\n",
    "from sklearn.naive_bayes import MultinomialNB, GaussianNB\n",
    "from sklearn.metrics import confusion_matrix, accuracy_score, classification\n",
    "from sklearn.neighbors import KNeighborsClassifier\n",
    "from sklearn.tree import DecisionTreeClassifier\n",
    "from sklearn.ensemble import RandomForestClassifier\n",
    "from sklearn.pipeline import Pipeline, FeatureUnion\n",
    "from sklearn.preprocessing import StandardScaler, FunctionTransformer\n",
    "\n",
    "import nltk\n",
    "from nltk.stem import WordNetLemmatizer\n",
    "lemmatizer = WordNetLemmatizer()\n",
    "\n",
    "import regex as re\n",
    "\n",
    "from bs4 import BeautifulSoup"
   ]
  },
  {
   "cell_type": "code",
   "execution_count": 242,
   "metadata": {},
   "outputs": [],
   "source": [
    "import warnings\n",
    "warnings.filterwarnings('ignore')"
   ]
  },
  {
   "cell_type": "code",
   "execution_count": 141,
   "metadata": {},
   "outputs": [],
   "source": [
    "# read the file\n",
    "fires_labeled_df = pd.read_csv('./fire_filtered.csv')"
   ]
  },
  {
   "cell_type": "code",
   "execution_count": 142,
   "metadata": {},
   "outputs": [],
   "source": [
    "nonfires_labeled_df = pd.read_csv('./la_nonfire_1600_tweets.csv')"
   ]
  },
  {
   "cell_type": "code",
   "execution_count": 155,
   "metadata": {},
   "outputs": [],
   "source": [
    "colorado_labeled_df = pd.read_csv('./Colorado tweets & target.csv')"
   ]
  },
  {
   "cell_type": "code",
   "execution_count": 198,
   "metadata": {},
   "outputs": [],
   "source": [
    "extra1200 = pd.read_csv('./la_nonfire_1200_tweets.csv')"
   ]
  },
  {
   "cell_type": "code",
   "execution_count": 199,
   "metadata": {},
   "outputs": [
    {
     "data": {
      "text/html": [
       "<div>\n",
       "<style scoped>\n",
       "    .dataframe tbody tr th:only-of-type {\n",
       "        vertical-align: middle;\n",
       "    }\n",
       "\n",
       "    .dataframe tbody tr th {\n",
       "        vertical-align: top;\n",
       "    }\n",
       "\n",
       "    .dataframe thead th {\n",
       "        text-align: right;\n",
       "    }\n",
       "</style>\n",
       "<table border=\"1\" class=\"dataframe\">\n",
       "  <thead>\n",
       "    <tr style=\"text-align: right;\">\n",
       "      <th></th>\n",
       "      <th>text</th>\n",
       "      <th>time</th>\n",
       "      <th>target</th>\n",
       "    </tr>\n",
       "  </thead>\n",
       "  <tbody>\n",
       "    <tr>\n",
       "      <td>0</td>\n",
       "      <td>pic.twitter.com/3VCVQKyBmm</td>\n",
       "      <td>2019-08-20 10:00:00</td>\n",
       "      <td>0</td>\n",
       "    </tr>\n",
       "    <tr>\n",
       "      <td>1</td>\n",
       "      <td>Tuesday, i saw no more #ghosttownalive founder...</td>\n",
       "      <td>2019-08-20 10:00:00</td>\n",
       "      <td>0</td>\n",
       "    </tr>\n",
       "    <tr>\n",
       "      <td>2</td>\n",
       "      <td>Of course ALL THE ABOVE!!</td>\n",
       "      <td>2019-08-20 10:00:00</td>\n",
       "      <td>0</td>\n",
       "    </tr>\n",
       "    <tr>\n",
       "      <td>3</td>\n",
       "      <td>I'm too busy looking for the talent.</td>\n",
       "      <td>2019-08-20 10:00:00</td>\n",
       "      <td>0</td>\n",
       "    </tr>\n",
       "    <tr>\n",
       "      <td>4</td>\n",
       "      <td>Lucky enough to celebrate the end of Justin’s ...</td>\n",
       "      <td>2019-08-20 10:00:00</td>\n",
       "      <td>0</td>\n",
       "    </tr>\n",
       "  </tbody>\n",
       "</table>\n",
       "</div>"
      ],
      "text/plain": [
       "                                                text                 time  \\\n",
       "0                         pic.twitter.com/3VCVQKyBmm  2019-08-20 10:00:00   \n",
       "1  Tuesday, i saw no more #ghosttownalive founder...  2019-08-20 10:00:00   \n",
       "2                          Of course ALL THE ABOVE!!  2019-08-20 10:00:00   \n",
       "3               I'm too busy looking for the talent.  2019-08-20 10:00:00   \n",
       "4  Lucky enough to celebrate the end of Justin’s ...  2019-08-20 10:00:00   \n",
       "\n",
       "   target  \n",
       "0       0  \n",
       "1       0  \n",
       "2       0  \n",
       "3       0  \n",
       "4       0  "
      ]
     },
     "execution_count": 199,
     "metadata": {},
     "output_type": "execute_result"
    }
   ],
   "source": [
    "nonfires_labeled_df.head()"
   ]
  },
  {
   "cell_type": "code",
   "execution_count": 200,
   "metadata": {},
   "outputs": [
    {
     "data": {
      "text/html": [
       "<div>\n",
       "<style scoped>\n",
       "    .dataframe tbody tr th:only-of-type {\n",
       "        vertical-align: middle;\n",
       "    }\n",
       "\n",
       "    .dataframe tbody tr th {\n",
       "        vertical-align: top;\n",
       "    }\n",
       "\n",
       "    .dataframe thead th {\n",
       "        text-align: right;\n",
       "    }\n",
       "</style>\n",
       "<table border=\"1\" class=\"dataframe\">\n",
       "  <thead>\n",
       "    <tr style=\"text-align: right;\">\n",
       "      <th></th>\n",
       "      <th>time</th>\n",
       "      <th>text</th>\n",
       "      <th>target</th>\n",
       "    </tr>\n",
       "  </thead>\n",
       "  <tbody>\n",
       "    <tr>\n",
       "      <td>0</td>\n",
       "      <td>2.110410e+17</td>\n",
       "      <td>#Intern #US #TATTOO #Wisconsin #Ohio #NC #PA #...</td>\n",
       "      <td>0</td>\n",
       "    </tr>\n",
       "    <tr>\n",
       "      <td>1</td>\n",
       "      <td>2.111120e+17</td>\n",
       "      <td>RT @Jack4Ward: Get in on the fun every Thursda...</td>\n",
       "      <td>0</td>\n",
       "    </tr>\n",
       "    <tr>\n",
       "      <td>2</td>\n",
       "      <td>2.111570e+17</td>\n",
       "      <td>Welcome to our newest STUDENTathlete- Reagan B...</td>\n",
       "      <td>0</td>\n",
       "    </tr>\n",
       "    <tr>\n",
       "      <td>3</td>\n",
       "      <td>2.111630e+17</td>\n",
       "      <td>Denver Post: #Colorado governor signs bill cre...</td>\n",
       "      <td>0</td>\n",
       "    </tr>\n",
       "    <tr>\n",
       "      <td>4</td>\n",
       "      <td>2.112170e+17</td>\n",
       "      <td>Pretty sure I'm going to live in Manitou Sprin...</td>\n",
       "      <td>0</td>\n",
       "    </tr>\n",
       "    <tr>\n",
       "      <td>...</td>\n",
       "      <td>...</td>\n",
       "      <td>...</td>\n",
       "      <td>...</td>\n",
       "    </tr>\n",
       "    <tr>\n",
       "      <td>1195</td>\n",
       "      <td>2.220450e+17</td>\n",
       "      <td>Colorado’s Waldo Canyon Fire reaches 98% conta...</td>\n",
       "      <td>1</td>\n",
       "    </tr>\n",
       "    <tr>\n",
       "      <td>1196</td>\n",
       "      <td>2.220710e+17</td>\n",
       "      <td>RT @cnnbrk: Colorado governor lifts statewide ...</td>\n",
       "      <td>1</td>\n",
       "    </tr>\n",
       "    <tr>\n",
       "      <td>1197</td>\n",
       "      <td>2.220720e+17</td>\n",
       "      <td>#SiguemeYTeSigo Colorado governor lifts statew...</td>\n",
       "      <td>1</td>\n",
       "    </tr>\n",
       "    <tr>\n",
       "      <td>1198</td>\n",
       "      <td>2.220820e+17</td>\n",
       "      <td>RT @News1130radio: BC Wildfire Management says...</td>\n",
       "      <td>1</td>\n",
       "    </tr>\n",
       "    <tr>\n",
       "      <td>1199</td>\n",
       "      <td>2.221110e+17</td>\n",
       "      <td>June broke all-time temp records in #Colorado ...</td>\n",
       "      <td>0</td>\n",
       "    </tr>\n",
       "  </tbody>\n",
       "</table>\n",
       "<p>1200 rows × 3 columns</p>\n",
       "</div>"
      ],
      "text/plain": [
       "              time                                               text  target\n",
       "0     2.110410e+17  #Intern #US #TATTOO #Wisconsin #Ohio #NC #PA #...       0\n",
       "1     2.111120e+17  RT @Jack4Ward: Get in on the fun every Thursda...       0\n",
       "2     2.111570e+17  Welcome to our newest STUDENTathlete- Reagan B...       0\n",
       "3     2.111630e+17  Denver Post: #Colorado governor signs bill cre...       0\n",
       "4     2.112170e+17  Pretty sure I'm going to live in Manitou Sprin...       0\n",
       "...            ...                                                ...     ...\n",
       "1195  2.220450e+17  Colorado’s Waldo Canyon Fire reaches 98% conta...       1\n",
       "1196  2.220710e+17  RT @cnnbrk: Colorado governor lifts statewide ...       1\n",
       "1197  2.220720e+17  #SiguemeYTeSigo Colorado governor lifts statew...       1\n",
       "1198  2.220820e+17  RT @News1130radio: BC Wildfire Management says...       1\n",
       "1199  2.221110e+17  June broke all-time temp records in #Colorado ...       0\n",
       "\n",
       "[1200 rows x 3 columns]"
      ]
     },
     "execution_count": 200,
     "metadata": {},
     "output_type": "execute_result"
    }
   ],
   "source": [
    "colorado_labeled_df"
   ]
  },
  {
   "cell_type": "code",
   "execution_count": 202,
   "metadata": {},
   "outputs": [
    {
     "data": {
      "text/html": [
       "<div>\n",
       "<style scoped>\n",
       "    .dataframe tbody tr th:only-of-type {\n",
       "        vertical-align: middle;\n",
       "    }\n",
       "\n",
       "    .dataframe tbody tr th {\n",
       "        vertical-align: top;\n",
       "    }\n",
       "\n",
       "    .dataframe thead th {\n",
       "        text-align: right;\n",
       "    }\n",
       "</style>\n",
       "<table border=\"1\" class=\"dataframe\">\n",
       "  <thead>\n",
       "    <tr style=\"text-align: right;\">\n",
       "      <th></th>\n",
       "      <th>time</th>\n",
       "      <th>target</th>\n",
       "      <th>text</th>\n",
       "    </tr>\n",
       "  </thead>\n",
       "  <tbody>\n",
       "    <tr>\n",
       "      <td>0</td>\n",
       "      <td>10/29/2019 22:56</td>\n",
       "      <td>0</td>\n",
       "      <td>RT @JulianCastro: My grandmother was a domesti...</td>\n",
       "    </tr>\n",
       "    <tr>\n",
       "      <td>1</td>\n",
       "      <td>10/29/2019 22:56</td>\n",
       "      <td>1</td>\n",
       "      <td>RT @MayorOfLA: #GettyFire update | 8AM:\\n\\n- 5...</td>\n",
       "    </tr>\n",
       "    <tr>\n",
       "      <td>2</td>\n",
       "      <td>10/29/2019 22:56</td>\n",
       "      <td>1</td>\n",
       "      <td>Getty Fire Ignited by Power Line in Sepulveda ...</td>\n",
       "    </tr>\n",
       "    <tr>\n",
       "      <td>3</td>\n",
       "      <td>10/29/2019 22:56</td>\n",
       "      <td>1</td>\n",
       "      <td>RT @latimes: In an ominous new warning, the Na...</td>\n",
       "    </tr>\n",
       "    <tr>\n",
       "      <td>4</td>\n",
       "      <td>10/29/2019 22:56</td>\n",
       "      <td>1</td>\n",
       "      <td>Arson investigators from the Los Angeles Fire ...</td>\n",
       "    </tr>\n",
       "  </tbody>\n",
       "</table>\n",
       "</div>"
      ],
      "text/plain": [
       "               time  target                                               text\n",
       "0  10/29/2019 22:56       0  RT @JulianCastro: My grandmother was a domesti...\n",
       "1  10/29/2019 22:56       1  RT @MayorOfLA: #GettyFire update | 8AM:\\n\\n- 5...\n",
       "2  10/29/2019 22:56       1  Getty Fire Ignited by Power Line in Sepulveda ...\n",
       "3  10/29/2019 22:56       1  RT @latimes: In an ominous new warning, the Na...\n",
       "4  10/29/2019 22:56       1  Arson investigators from the Los Angeles Fire ..."
      ]
     },
     "execution_count": 202,
     "metadata": {},
     "output_type": "execute_result"
    }
   ],
   "source": [
    "fires_labeled_df.head()"
   ]
  },
  {
   "cell_type": "code",
   "execution_count": 203,
   "metadata": {},
   "outputs": [
    {
     "data": {
      "text/plain": [
       "time      object\n",
       "target     int64\n",
       "text      object\n",
       "dtype: object"
      ]
     },
     "execution_count": 203,
     "metadata": {},
     "output_type": "execute_result"
    }
   ],
   "source": [
    "fires_labeled_df.dtypes"
   ]
  },
  {
   "cell_type": "code",
   "execution_count": 7,
   "metadata": {},
   "outputs": [],
   "source": [
    "# fires_labeled_df['target'] = np.where((fires_labeled_df['related'] == 'R') & (fires_labeled_df['informative'] == 'I'), 1, 0)"
   ]
  },
  {
   "cell_type": "code",
   "execution_count": 204,
   "metadata": {},
   "outputs": [
    {
     "data": {
      "text/html": [
       "<div>\n",
       "<style scoped>\n",
       "    .dataframe tbody tr th:only-of-type {\n",
       "        vertical-align: middle;\n",
       "    }\n",
       "\n",
       "    .dataframe tbody tr th {\n",
       "        vertical-align: top;\n",
       "    }\n",
       "\n",
       "    .dataframe thead th {\n",
       "        text-align: right;\n",
       "    }\n",
       "</style>\n",
       "<table border=\"1\" class=\"dataframe\">\n",
       "  <thead>\n",
       "    <tr style=\"text-align: right;\">\n",
       "      <th></th>\n",
       "      <th>time</th>\n",
       "      <th>target</th>\n",
       "      <th>text</th>\n",
       "    </tr>\n",
       "  </thead>\n",
       "  <tbody>\n",
       "    <tr>\n",
       "      <td>0</td>\n",
       "      <td>10/29/2019 22:56</td>\n",
       "      <td>0</td>\n",
       "      <td>RT @JulianCastro: My grandmother was a domesti...</td>\n",
       "    </tr>\n",
       "    <tr>\n",
       "      <td>1</td>\n",
       "      <td>10/29/2019 22:56</td>\n",
       "      <td>1</td>\n",
       "      <td>RT @MayorOfLA: #GettyFire update | 8AM:\\n\\n- 5...</td>\n",
       "    </tr>\n",
       "    <tr>\n",
       "      <td>2</td>\n",
       "      <td>10/29/2019 22:56</td>\n",
       "      <td>1</td>\n",
       "      <td>Getty Fire Ignited by Power Line in Sepulveda ...</td>\n",
       "    </tr>\n",
       "    <tr>\n",
       "      <td>3</td>\n",
       "      <td>10/29/2019 22:56</td>\n",
       "      <td>1</td>\n",
       "      <td>RT @latimes: In an ominous new warning, the Na...</td>\n",
       "    </tr>\n",
       "    <tr>\n",
       "      <td>4</td>\n",
       "      <td>10/29/2019 22:56</td>\n",
       "      <td>1</td>\n",
       "      <td>Arson investigators from the Los Angeles Fire ...</td>\n",
       "    </tr>\n",
       "    <tr>\n",
       "      <td>...</td>\n",
       "      <td>...</td>\n",
       "      <td>...</td>\n",
       "      <td>...</td>\n",
       "    </tr>\n",
       "    <tr>\n",
       "      <td>7207</td>\n",
       "      <td>10/23/2019 20:04</td>\n",
       "      <td>1</td>\n",
       "      <td>b'LA 6407 Dix St **Report of Fire** https://t....</td>\n",
       "    </tr>\n",
       "    <tr>\n",
       "      <td>7208</td>\n",
       "      <td>10/23/2019 20:03</td>\n",
       "      <td>0</td>\n",
       "      <td>b'RT @AyseTrixstarEnt: @eyemnomadic Fire \\xf0\\...</td>\n",
       "    </tr>\n",
       "    <tr>\n",
       "      <td>7209</td>\n",
       "      <td>10/23/2019 20:01</td>\n",
       "      <td>0</td>\n",
       "      <td>b'Fireman: the roof is on fire \\n\\nMe: ayyyy \\...</td>\n",
       "    </tr>\n",
       "    <tr>\n",
       "      <td>7210</td>\n",
       "      <td>10/23/2019 20:00</td>\n",
       "      <td>0</td>\n",
       "      <td>b'RT @MusicForRelief: There were still 19,925 ...</td>\n",
       "    </tr>\n",
       "    <tr>\n",
       "      <td>7211</td>\n",
       "      <td>10/23/2019 20:00</td>\n",
       "      <td>0</td>\n",
       "      <td>b\"Core qualities of statesmanship and statecra...</td>\n",
       "    </tr>\n",
       "  </tbody>\n",
       "</table>\n",
       "<p>7212 rows × 3 columns</p>\n",
       "</div>"
      ],
      "text/plain": [
       "                  time  target  \\\n",
       "0     10/29/2019 22:56       0   \n",
       "1     10/29/2019 22:56       1   \n",
       "2     10/29/2019 22:56       1   \n",
       "3     10/29/2019 22:56       1   \n",
       "4     10/29/2019 22:56       1   \n",
       "...                ...     ...   \n",
       "7207  10/23/2019 20:04       1   \n",
       "7208  10/23/2019 20:03       0   \n",
       "7209  10/23/2019 20:01       0   \n",
       "7210  10/23/2019 20:00       0   \n",
       "7211  10/23/2019 20:00       0   \n",
       "\n",
       "                                                   text  \n",
       "0     RT @JulianCastro: My grandmother was a domesti...  \n",
       "1     RT @MayorOfLA: #GettyFire update | 8AM:\\n\\n- 5...  \n",
       "2     Getty Fire Ignited by Power Line in Sepulveda ...  \n",
       "3     RT @latimes: In an ominous new warning, the Na...  \n",
       "4     Arson investigators from the Los Angeles Fire ...  \n",
       "...                                                 ...  \n",
       "7207  b'LA 6407 Dix St **Report of Fire** https://t....  \n",
       "7208  b'RT @AyseTrixstarEnt: @eyemnomadic Fire \\xf0\\...  \n",
       "7209  b'Fireman: the roof is on fire \\n\\nMe: ayyyy \\...  \n",
       "7210  b'RT @MusicForRelief: There were still 19,925 ...  \n",
       "7211  b\"Core qualities of statesmanship and statecra...  \n",
       "\n",
       "[7212 rows x 3 columns]"
      ]
     },
     "execution_count": 204,
     "metadata": {},
     "output_type": "execute_result"
    }
   ],
   "source": [
    "fires_labeled_df"
   ]
  },
  {
   "cell_type": "code",
   "execution_count": 205,
   "metadata": {},
   "outputs": [
    {
     "data": {
      "text/plain": [
       "1    5007\n",
       "0    2205\n",
       "Name: target, dtype: int64"
      ]
     },
     "execution_count": 205,
     "metadata": {},
     "output_type": "execute_result"
    }
   ],
   "source": [
    "fires_labeled_df['target'].value_counts()"
   ]
  },
  {
   "cell_type": "code",
   "execution_count": 150,
   "metadata": {},
   "outputs": [],
   "source": [
    "# fires_labeled_df.drop(columns=['related', 'informative'], inplace=True)"
   ]
  },
  {
   "cell_type": "code",
   "execution_count": 207,
   "metadata": {},
   "outputs": [],
   "source": [
    "extra1200.drop(columns=['long', 'lat'], inplace=True)"
   ]
  },
  {
   "cell_type": "code",
   "execution_count": 208,
   "metadata": {},
   "outputs": [],
   "source": [
    "labeled_df = pd.concat([fires_labeled_df, nonfires_labeled_df, colorado_labeled_df, extra1200])\n",
    "labeled_df = labeled_df.drop_duplicates().dropna().reset_index(drop=True)"
   ]
  },
  {
   "cell_type": "code",
   "execution_count": 209,
   "metadata": {},
   "outputs": [
    {
     "data": {
      "text/html": [
       "<div>\n",
       "<style scoped>\n",
       "    .dataframe tbody tr th:only-of-type {\n",
       "        vertical-align: middle;\n",
       "    }\n",
       "\n",
       "    .dataframe tbody tr th {\n",
       "        vertical-align: top;\n",
       "    }\n",
       "\n",
       "    .dataframe thead th {\n",
       "        text-align: right;\n",
       "    }\n",
       "</style>\n",
       "<table border=\"1\" class=\"dataframe\">\n",
       "  <thead>\n",
       "    <tr style=\"text-align: right;\">\n",
       "      <th></th>\n",
       "      <th>target</th>\n",
       "      <th>text</th>\n",
       "      <th>time</th>\n",
       "    </tr>\n",
       "  </thead>\n",
       "  <tbody>\n",
       "    <tr>\n",
       "      <td>0</td>\n",
       "      <td>0</td>\n",
       "      <td>RT @JulianCastro: My grandmother was a domesti...</td>\n",
       "      <td>10/29/2019 22:56</td>\n",
       "    </tr>\n",
       "    <tr>\n",
       "      <td>1</td>\n",
       "      <td>1</td>\n",
       "      <td>RT @MayorOfLA: #GettyFire update | 8AM:\\n\\n- 5...</td>\n",
       "      <td>10/29/2019 22:56</td>\n",
       "    </tr>\n",
       "    <tr>\n",
       "      <td>2</td>\n",
       "      <td>1</td>\n",
       "      <td>Getty Fire Ignited by Power Line in Sepulveda ...</td>\n",
       "      <td>10/29/2019 22:56</td>\n",
       "    </tr>\n",
       "    <tr>\n",
       "      <td>3</td>\n",
       "      <td>1</td>\n",
       "      <td>RT @latimes: In an ominous new warning, the Na...</td>\n",
       "      <td>10/29/2019 22:56</td>\n",
       "    </tr>\n",
       "    <tr>\n",
       "      <td>4</td>\n",
       "      <td>1</td>\n",
       "      <td>Arson investigators from the Los Angeles Fire ...</td>\n",
       "      <td>10/29/2019 22:56</td>\n",
       "    </tr>\n",
       "    <tr>\n",
       "      <td>...</td>\n",
       "      <td>...</td>\n",
       "      <td>...</td>\n",
       "      <td>...</td>\n",
       "    </tr>\n",
       "    <tr>\n",
       "      <td>11205</td>\n",
       "      <td>0</td>\n",
       "      <td>Yessss lolhttps://twitter.com/FamIsAllIGot/sta...</td>\n",
       "      <td>2019-08-20 10:00:00</td>\n",
       "    </tr>\n",
       "    <tr>\n",
       "      <td>11206</td>\n",
       "      <td>0</td>\n",
       "      <td>pic.twitter.com/KuY8zjW97s</td>\n",
       "      <td>2019-08-20 10:00:00</td>\n",
       "    </tr>\n",
       "    <tr>\n",
       "      <td>11207</td>\n",
       "      <td>0</td>\n",
       "      <td>Mom was kinda weird about the whole lesbian ba...</td>\n",
       "      <td>2019-08-20 10:00:00</td>\n",
       "    </tr>\n",
       "    <tr>\n",
       "      <td>11208</td>\n",
       "      <td>0</td>\n",
       "      <td>Drinking a Monk's Lunch by @RitualBrewing @The...</td>\n",
       "      <td>2019-08-20 10:00:00</td>\n",
       "    </tr>\n",
       "    <tr>\n",
       "      <td>11209</td>\n",
       "      <td>0</td>\n",
       "      <td>Yes*!!!https://twitter.com/isabel_6969/status/...</td>\n",
       "      <td>2019-08-20 10:00:00</td>\n",
       "    </tr>\n",
       "  </tbody>\n",
       "</table>\n",
       "<p>11210 rows × 3 columns</p>\n",
       "</div>"
      ],
      "text/plain": [
       "       target                                               text  \\\n",
       "0           0  RT @JulianCastro: My grandmother was a domesti...   \n",
       "1           1  RT @MayorOfLA: #GettyFire update | 8AM:\\n\\n- 5...   \n",
       "2           1  Getty Fire Ignited by Power Line in Sepulveda ...   \n",
       "3           1  RT @latimes: In an ominous new warning, the Na...   \n",
       "4           1  Arson investigators from the Los Angeles Fire ...   \n",
       "...       ...                                                ...   \n",
       "11205       0  Yessss lolhttps://twitter.com/FamIsAllIGot/sta...   \n",
       "11206       0                         pic.twitter.com/KuY8zjW97s   \n",
       "11207       0  Mom was kinda weird about the whole lesbian ba...   \n",
       "11208       0  Drinking a Monk's Lunch by @RitualBrewing @The...   \n",
       "11209       0  Yes*!!!https://twitter.com/isabel_6969/status/...   \n",
       "\n",
       "                      time  \n",
       "0         10/29/2019 22:56  \n",
       "1         10/29/2019 22:56  \n",
       "2         10/29/2019 22:56  \n",
       "3         10/29/2019 22:56  \n",
       "4         10/29/2019 22:56  \n",
       "...                    ...  \n",
       "11205  2019-08-20 10:00:00  \n",
       "11206  2019-08-20 10:00:00  \n",
       "11207  2019-08-20 10:00:00  \n",
       "11208  2019-08-20 10:00:00  \n",
       "11209  2019-08-20 10:00:00  \n",
       "\n",
       "[11210 rows x 3 columns]"
      ]
     },
     "execution_count": 209,
     "metadata": {},
     "output_type": "execute_result"
    }
   ],
   "source": [
    "labeled_df"
   ]
  },
  {
   "cell_type": "markdown",
   "metadata": {},
   "source": [
    "## Adding Sentiment Score to the DF"
   ]
  },
  {
   "cell_type": "code",
   "execution_count": 210,
   "metadata": {},
   "outputs": [],
   "source": [
    "from nltk.sentiment.vader import SentimentIntensityAnalyzer"
   ]
  },
  {
   "cell_type": "code",
   "execution_count": 211,
   "metadata": {},
   "outputs": [],
   "source": [
    "# instantiate the sentiment analyzer\n",
    "sia = SentimentIntensityAnalyzer()"
   ]
  },
  {
   "cell_type": "code",
   "execution_count": 212,
   "metadata": {},
   "outputs": [],
   "source": [
    "sia_table = []\n",
    "for i in labeled_df['text']:\n",
    "    sia_scores = {}\n",
    "    sia_scores['sia_positive'] = sia.polarity_scores(i)['pos']\n",
    "    sia_scores['sia_negative'] = sia.polarity_scores(i)['neg']\n",
    "    sia_scores['sia_neutral'] = sia.polarity_scores(i)['neu']\n",
    "    sia_scores['sia_compound'] = sia.polarity_scores(i)['compound']\n",
    "    \n",
    "    sia_table.append(sia_scores)"
   ]
  },
  {
   "cell_type": "code",
   "execution_count": 213,
   "metadata": {},
   "outputs": [],
   "source": [
    "sia_df = pd.DataFrame(sia_table)"
   ]
  },
  {
   "cell_type": "code",
   "execution_count": 214,
   "metadata": {},
   "outputs": [
    {
     "data": {
      "text/html": [
       "<div>\n",
       "<style scoped>\n",
       "    .dataframe tbody tr th:only-of-type {\n",
       "        vertical-align: middle;\n",
       "    }\n",
       "\n",
       "    .dataframe tbody tr th {\n",
       "        vertical-align: top;\n",
       "    }\n",
       "\n",
       "    .dataframe thead th {\n",
       "        text-align: right;\n",
       "    }\n",
       "</style>\n",
       "<table border=\"1\" class=\"dataframe\">\n",
       "  <thead>\n",
       "    <tr style=\"text-align: right;\">\n",
       "      <th></th>\n",
       "      <th>sia_positive</th>\n",
       "      <th>sia_negative</th>\n",
       "      <th>sia_neutral</th>\n",
       "      <th>sia_compound</th>\n",
       "    </tr>\n",
       "  </thead>\n",
       "  <tbody>\n",
       "    <tr>\n",
       "      <td>0</td>\n",
       "      <td>0.000</td>\n",
       "      <td>0.000</td>\n",
       "      <td>1.000</td>\n",
       "      <td>0.0000</td>\n",
       "    </tr>\n",
       "    <tr>\n",
       "      <td>1</td>\n",
       "      <td>0.000</td>\n",
       "      <td>0.000</td>\n",
       "      <td>1.000</td>\n",
       "      <td>0.0000</td>\n",
       "    </tr>\n",
       "    <tr>\n",
       "      <td>2</td>\n",
       "      <td>0.000</td>\n",
       "      <td>0.211</td>\n",
       "      <td>0.789</td>\n",
       "      <td>-0.3400</td>\n",
       "    </tr>\n",
       "    <tr>\n",
       "      <td>3</td>\n",
       "      <td>0.000</td>\n",
       "      <td>0.202</td>\n",
       "      <td>0.798</td>\n",
       "      <td>-0.5859</td>\n",
       "    </tr>\n",
       "    <tr>\n",
       "      <td>4</td>\n",
       "      <td>0.066</td>\n",
       "      <td>0.122</td>\n",
       "      <td>0.812</td>\n",
       "      <td>-0.2732</td>\n",
       "    </tr>\n",
       "  </tbody>\n",
       "</table>\n",
       "</div>"
      ],
      "text/plain": [
       "   sia_positive  sia_negative  sia_neutral  sia_compound\n",
       "0         0.000         0.000        1.000        0.0000\n",
       "1         0.000         0.000        1.000        0.0000\n",
       "2         0.000         0.211        0.789       -0.3400\n",
       "3         0.000         0.202        0.798       -0.5859\n",
       "4         0.066         0.122        0.812       -0.2732"
      ]
     },
     "execution_count": 214,
     "metadata": {},
     "output_type": "execute_result"
    }
   ],
   "source": [
    "sia_df.head()"
   ]
  },
  {
   "cell_type": "code",
   "execution_count": 215,
   "metadata": {},
   "outputs": [
    {
     "data": {
      "text/html": [
       "<div>\n",
       "<style scoped>\n",
       "    .dataframe tbody tr th:only-of-type {\n",
       "        vertical-align: middle;\n",
       "    }\n",
       "\n",
       "    .dataframe tbody tr th {\n",
       "        vertical-align: top;\n",
       "    }\n",
       "\n",
       "    .dataframe thead th {\n",
       "        text-align: right;\n",
       "    }\n",
       "</style>\n",
       "<table border=\"1\" class=\"dataframe\">\n",
       "  <thead>\n",
       "    <tr style=\"text-align: right;\">\n",
       "      <th></th>\n",
       "      <th>target</th>\n",
       "      <th>text</th>\n",
       "      <th>time</th>\n",
       "    </tr>\n",
       "  </thead>\n",
       "  <tbody>\n",
       "    <tr>\n",
       "      <td>0</td>\n",
       "      <td>0</td>\n",
       "      <td>RT @JulianCastro: My grandmother was a domesti...</td>\n",
       "      <td>10/29/2019 22:56</td>\n",
       "    </tr>\n",
       "    <tr>\n",
       "      <td>1</td>\n",
       "      <td>1</td>\n",
       "      <td>RT @MayorOfLA: #GettyFire update | 8AM:\\n\\n- 5...</td>\n",
       "      <td>10/29/2019 22:56</td>\n",
       "    </tr>\n",
       "    <tr>\n",
       "      <td>2</td>\n",
       "      <td>1</td>\n",
       "      <td>Getty Fire Ignited by Power Line in Sepulveda ...</td>\n",
       "      <td>10/29/2019 22:56</td>\n",
       "    </tr>\n",
       "    <tr>\n",
       "      <td>3</td>\n",
       "      <td>1</td>\n",
       "      <td>RT @latimes: In an ominous new warning, the Na...</td>\n",
       "      <td>10/29/2019 22:56</td>\n",
       "    </tr>\n",
       "    <tr>\n",
       "      <td>4</td>\n",
       "      <td>1</td>\n",
       "      <td>Arson investigators from the Los Angeles Fire ...</td>\n",
       "      <td>10/29/2019 22:56</td>\n",
       "    </tr>\n",
       "  </tbody>\n",
       "</table>\n",
       "</div>"
      ],
      "text/plain": [
       "   target                                               text              time\n",
       "0       0  RT @JulianCastro: My grandmother was a domesti...  10/29/2019 22:56\n",
       "1       1  RT @MayorOfLA: #GettyFire update | 8AM:\\n\\n- 5...  10/29/2019 22:56\n",
       "2       1  Getty Fire Ignited by Power Line in Sepulveda ...  10/29/2019 22:56\n",
       "3       1  RT @latimes: In an ominous new warning, the Na...  10/29/2019 22:56\n",
       "4       1  Arson investigators from the Los Angeles Fire ...  10/29/2019 22:56"
      ]
     },
     "execution_count": 215,
     "metadata": {},
     "output_type": "execute_result"
    }
   ],
   "source": [
    "labeled_df.head()"
   ]
  },
  {
   "cell_type": "code",
   "execution_count": 216,
   "metadata": {},
   "outputs": [],
   "source": [
    "labeled_df = pd.concat([labeled_df, sia_df], axis=1)"
   ]
  },
  {
   "cell_type": "code",
   "execution_count": 217,
   "metadata": {},
   "outputs": [
    {
     "data": {
      "text/html": [
       "<div>\n",
       "<style scoped>\n",
       "    .dataframe tbody tr th:only-of-type {\n",
       "        vertical-align: middle;\n",
       "    }\n",
       "\n",
       "    .dataframe tbody tr th {\n",
       "        vertical-align: top;\n",
       "    }\n",
       "\n",
       "    .dataframe thead th {\n",
       "        text-align: right;\n",
       "    }\n",
       "</style>\n",
       "<table border=\"1\" class=\"dataframe\">\n",
       "  <thead>\n",
       "    <tr style=\"text-align: right;\">\n",
       "      <th></th>\n",
       "      <th>target</th>\n",
       "      <th>text</th>\n",
       "      <th>time</th>\n",
       "      <th>sia_positive</th>\n",
       "      <th>sia_negative</th>\n",
       "      <th>sia_neutral</th>\n",
       "      <th>sia_compound</th>\n",
       "    </tr>\n",
       "  </thead>\n",
       "  <tbody>\n",
       "    <tr>\n",
       "      <td>0</td>\n",
       "      <td>0</td>\n",
       "      <td>RT @JulianCastro: My grandmother was a domesti...</td>\n",
       "      <td>10/29/2019 22:56</td>\n",
       "      <td>0.000</td>\n",
       "      <td>0.000</td>\n",
       "      <td>1.000</td>\n",
       "      <td>0.0000</td>\n",
       "    </tr>\n",
       "    <tr>\n",
       "      <td>1</td>\n",
       "      <td>1</td>\n",
       "      <td>RT @MayorOfLA: #GettyFire update | 8AM:\\n\\n- 5...</td>\n",
       "      <td>10/29/2019 22:56</td>\n",
       "      <td>0.000</td>\n",
       "      <td>0.000</td>\n",
       "      <td>1.000</td>\n",
       "      <td>0.0000</td>\n",
       "    </tr>\n",
       "    <tr>\n",
       "      <td>2</td>\n",
       "      <td>1</td>\n",
       "      <td>Getty Fire Ignited by Power Line in Sepulveda ...</td>\n",
       "      <td>10/29/2019 22:56</td>\n",
       "      <td>0.000</td>\n",
       "      <td>0.211</td>\n",
       "      <td>0.789</td>\n",
       "      <td>-0.3400</td>\n",
       "    </tr>\n",
       "    <tr>\n",
       "      <td>3</td>\n",
       "      <td>1</td>\n",
       "      <td>RT @latimes: In an ominous new warning, the Na...</td>\n",
       "      <td>10/29/2019 22:56</td>\n",
       "      <td>0.000</td>\n",
       "      <td>0.202</td>\n",
       "      <td>0.798</td>\n",
       "      <td>-0.5859</td>\n",
       "    </tr>\n",
       "    <tr>\n",
       "      <td>4</td>\n",
       "      <td>1</td>\n",
       "      <td>Arson investigators from the Los Angeles Fire ...</td>\n",
       "      <td>10/29/2019 22:56</td>\n",
       "      <td>0.066</td>\n",
       "      <td>0.122</td>\n",
       "      <td>0.812</td>\n",
       "      <td>-0.2732</td>\n",
       "    </tr>\n",
       "    <tr>\n",
       "      <td>...</td>\n",
       "      <td>...</td>\n",
       "      <td>...</td>\n",
       "      <td>...</td>\n",
       "      <td>...</td>\n",
       "      <td>...</td>\n",
       "      <td>...</td>\n",
       "      <td>...</td>\n",
       "    </tr>\n",
       "    <tr>\n",
       "      <td>11205</td>\n",
       "      <td>0</td>\n",
       "      <td>Yessss lolhttps://twitter.com/FamIsAllIGot/sta...</td>\n",
       "      <td>2019-08-20 10:00:00</td>\n",
       "      <td>0.000</td>\n",
       "      <td>0.000</td>\n",
       "      <td>1.000</td>\n",
       "      <td>0.0000</td>\n",
       "    </tr>\n",
       "    <tr>\n",
       "      <td>11206</td>\n",
       "      <td>0</td>\n",
       "      <td>pic.twitter.com/KuY8zjW97s</td>\n",
       "      <td>2019-08-20 10:00:00</td>\n",
       "      <td>0.000</td>\n",
       "      <td>0.000</td>\n",
       "      <td>1.000</td>\n",
       "      <td>0.0000</td>\n",
       "    </tr>\n",
       "    <tr>\n",
       "      <td>11207</td>\n",
       "      <td>0</td>\n",
       "      <td>Mom was kinda weird about the whole lesbian ba...</td>\n",
       "      <td>2019-08-20 10:00:00</td>\n",
       "      <td>0.063</td>\n",
       "      <td>0.137</td>\n",
       "      <td>0.800</td>\n",
       "      <td>-0.2975</td>\n",
       "    </tr>\n",
       "    <tr>\n",
       "      <td>11208</td>\n",
       "      <td>0</td>\n",
       "      <td>Drinking a Monk's Lunch by @RitualBrewing @The...</td>\n",
       "      <td>2019-08-20 10:00:00</td>\n",
       "      <td>0.000</td>\n",
       "      <td>0.000</td>\n",
       "      <td>1.000</td>\n",
       "      <td>0.0000</td>\n",
       "    </tr>\n",
       "    <tr>\n",
       "      <td>11209</td>\n",
       "      <td>0</td>\n",
       "      <td>Yes*!!!https://twitter.com/isabel_6969/status/...</td>\n",
       "      <td>2019-08-20 10:00:00</td>\n",
       "      <td>0.000</td>\n",
       "      <td>0.000</td>\n",
       "      <td>1.000</td>\n",
       "      <td>0.0000</td>\n",
       "    </tr>\n",
       "  </tbody>\n",
       "</table>\n",
       "<p>11210 rows × 7 columns</p>\n",
       "</div>"
      ],
      "text/plain": [
       "       target                                               text  \\\n",
       "0           0  RT @JulianCastro: My grandmother was a domesti...   \n",
       "1           1  RT @MayorOfLA: #GettyFire update | 8AM:\\n\\n- 5...   \n",
       "2           1  Getty Fire Ignited by Power Line in Sepulveda ...   \n",
       "3           1  RT @latimes: In an ominous new warning, the Na...   \n",
       "4           1  Arson investigators from the Los Angeles Fire ...   \n",
       "...       ...                                                ...   \n",
       "11205       0  Yessss lolhttps://twitter.com/FamIsAllIGot/sta...   \n",
       "11206       0                         pic.twitter.com/KuY8zjW97s   \n",
       "11207       0  Mom was kinda weird about the whole lesbian ba...   \n",
       "11208       0  Drinking a Monk's Lunch by @RitualBrewing @The...   \n",
       "11209       0  Yes*!!!https://twitter.com/isabel_6969/status/...   \n",
       "\n",
       "                      time  sia_positive  sia_negative  sia_neutral  \\\n",
       "0         10/29/2019 22:56         0.000         0.000        1.000   \n",
       "1         10/29/2019 22:56         0.000         0.000        1.000   \n",
       "2         10/29/2019 22:56         0.000         0.211        0.789   \n",
       "3         10/29/2019 22:56         0.000         0.202        0.798   \n",
       "4         10/29/2019 22:56         0.066         0.122        0.812   \n",
       "...                    ...           ...           ...          ...   \n",
       "11205  2019-08-20 10:00:00         0.000         0.000        1.000   \n",
       "11206  2019-08-20 10:00:00         0.000         0.000        1.000   \n",
       "11207  2019-08-20 10:00:00         0.063         0.137        0.800   \n",
       "11208  2019-08-20 10:00:00         0.000         0.000        1.000   \n",
       "11209  2019-08-20 10:00:00         0.000         0.000        1.000   \n",
       "\n",
       "       sia_compound  \n",
       "0            0.0000  \n",
       "1            0.0000  \n",
       "2           -0.3400  \n",
       "3           -0.5859  \n",
       "4           -0.2732  \n",
       "...             ...  \n",
       "11205        0.0000  \n",
       "11206        0.0000  \n",
       "11207       -0.2975  \n",
       "11208        0.0000  \n",
       "11209        0.0000  \n",
       "\n",
       "[11210 rows x 7 columns]"
      ]
     },
     "execution_count": 217,
     "metadata": {},
     "output_type": "execute_result"
    }
   ],
   "source": [
    "labeled_df"
   ]
  },
  {
   "cell_type": "code",
   "execution_count": 218,
   "metadata": {},
   "outputs": [
    {
     "data": {
      "text/plain": [
       "1    5691\n",
       "0    5519\n",
       "Name: target, dtype: int64"
      ]
     },
     "execution_count": 218,
     "metadata": {},
     "output_type": "execute_result"
    }
   ],
   "source": [
    "labeled_df['target'].value_counts()"
   ]
  },
  {
   "cell_type": "code",
   "execution_count": 219,
   "metadata": {},
   "outputs": [
    {
     "data": {
      "text/plain": [
       "target          0\n",
       "text            0\n",
       "time            0\n",
       "sia_positive    0\n",
       "sia_negative    0\n",
       "sia_neutral     0\n",
       "sia_compound    0\n",
       "dtype: int64"
      ]
     },
     "execution_count": 219,
     "metadata": {},
     "output_type": "execute_result"
    }
   ],
   "source": [
    "labeled_df.isnull().sum()"
   ]
  },
  {
   "cell_type": "markdown",
   "metadata": {},
   "source": [
    "labeled_df['target'].value_counts(normalize=True)"
   ]
  },
  {
   "cell_type": "code",
   "execution_count": 221,
   "metadata": {},
   "outputs": [],
   "source": [
    "custom_stop = list(ENGLISH_STOP_WORDS)\n",
    "custom_stop.extend([\"b'RT\", \"xe2\", \"x80\", \"x99\", \"xf0\", \"htpps\", \"xa6\", \"x9f\", \"Getty Center\", \"Los Angeles\",\n",
    "                    \"Los Angele\", \"Getty\", \"x99m\", \"x99s\", \"Los\", \"Angele\", \"taco truck\", \"outfit\", \"taco\", \"truck\",\n",
    "                   \"http\", \"https\", \"x94\", \"xa5\", \"nhttp\", \"nhttps\", \"b'\", \"Center\", \"amp\", \"GettyFire\", \"RT\", \"www\",\n",
    "                   \"instagram\", \"xa6'b'RT\", \"xa6'b'\", \"xa6'RT\", \"xb8\", \"x9d\", \"xef\", \"x8f\", 'http','colorado','co',\n",
    "                    'springs','waldo','canyon','cofire','rt','boulder','waldocanyonfire', 'highparkfire',\n",
    "                    'denverpost','denver','colo'])"
   ]
  },
  {
   "cell_type": "code",
   "execution_count": 222,
   "metadata": {},
   "outputs": [],
   "source": [
    "# define a function to clean text from html tags, non-leters, english stop words, custom stop words\n",
    "\n",
    "def cleanup_lemmatize_text(document):\n",
    "    # remove HTML\n",
    "    # text = BeautifulSoup(document).get_text()\n",
    "    # remove non-letter characters\n",
    "    letters = re.sub(\"[^a-zA-Z]\", \" \", document)    \n",
    "    # all words lower case\n",
    "    words = letters.lower().split()\n",
    "    # remove stop words (english + custom)\n",
    "    stops = set(custom_stop)\n",
    "    clean_words = [word for word in words if word not in stops]\n",
    "    # lemmatize cleaned up words\n",
    "    # lem_clean_words = [lemmatizer.lemmatize(token) for token in clean_words]\n",
    "    \n",
    "    # returned the cleand up string\n",
    "    return(\" \".join(clean_words))"
   ]
  },
  {
   "cell_type": "code",
   "execution_count": 71,
   "metadata": {},
   "outputs": [],
   "source": [
    "# # initialize an empty list to hold the clean titles\n",
    "# clean_text = []\n",
    "\n",
    "# for text in labeled_df['text']:\n",
    "#     # convert title to words, then append to clean_titles list\n",
    "#     clean_text.append(cleanup_lemmatize_text(text))"
   ]
  },
  {
   "cell_type": "code",
   "execution_count": 67,
   "metadata": {},
   "outputs": [
    {
     "data": {
      "text/plain": [
       "2342"
      ]
     },
     "execution_count": 67,
     "metadata": {},
     "output_type": "execute_result"
    }
   ],
   "source": [
    "len(clean_text)"
   ]
  },
  {
   "cell_type": "code",
   "execution_count": 13,
   "metadata": {},
   "outputs": [],
   "source": [
    "fires_labeled_df['text'] = clean_text"
   ]
  },
  {
   "cell_type": "code",
   "execution_count": 223,
   "metadata": {},
   "outputs": [],
   "source": [
    "# define features variable(s) with only title column\n",
    "# I will not add body because first subreddit has a lot of blank posts that would cause unbalanced features\n",
    "X = labeled_df['text']\n",
    "\n",
    "# define target variable\n",
    "y = labeled_df['target']"
   ]
  },
  {
   "cell_type": "code",
   "execution_count": 224,
   "metadata": {},
   "outputs": [],
   "source": [
    "# split the data into the training and testing sets\n",
    "# set a random state for reproducibility \n",
    "# stratify y to combat slightly unbalanced classes\n",
    "X_train, X_test, y_train, y_test = train_test_split(X,\n",
    "                                                    y,\n",
    "                                                    test_size=0.33,\n",
    "                                                    stratify=y,\n",
    "                                                    random_state=42)"
   ]
  },
  {
   "cell_type": "code",
   "execution_count": 225,
   "metadata": {},
   "outputs": [
    {
     "data": {
      "text/plain": [
       "1    0.507568\n",
       "0    0.492432\n",
       "Name: target, dtype: float64"
      ]
     },
     "execution_count": 225,
     "metadata": {},
     "output_type": "execute_result"
    }
   ],
   "source": [
    "# Baseline accuracy on test data\n",
    "y_test.value_counts(normalize=True)"
   ]
  },
  {
   "cell_type": "code",
   "execution_count": 234,
   "metadata": {},
   "outputs": [],
   "source": [
    "# CountVectorizer (transformer) & LogisticRegression (estimator)\n",
    "\n",
    "pipe1 = Pipeline([\n",
    "        ('cvec', CountVectorizer(stop_words=custom_stop, max_features=1200, ngram_range=(1,2))),\n",
    "        ('logreg', LogisticRegression())\n",
    "])\n",
    "\n",
    "pipe1_params = {\n",
    "  #  'cvec__max_features': [1200, 1800, 2000, 2500],\n",
    "  #  'cvec__stop_words': ['custom_stop'],\n",
    "  #  'cvec__ngram_range': [(1,1), (1,2), (1,3)],\n",
    "    'cvec__min_df': [20, 40, 50],\n",
    "    'cvec__max_df': [.35, .45, .55],\n",
    " #   'cvec__strip_accents': ['ascii'],\n",
    "  #  'logreg__penalty': ['l1', 'l2'],\n",
    "  #  'logreg__C': [2, 2.5, 3]\n",
    "}\n",
    "\n",
    "gs1 = GridSearchCV(pipe1,  # object to be optimized\n",
    "                   pipe1_params, # parameter values to be searched\n",
    "                   cv=5, # 5 folds\n",
    "                   verbose = 1,\n",
    "             #      n_jobs = -1\n",
    "                  )"
   ]
  },
  {
   "cell_type": "code",
   "execution_count": 235,
   "metadata": {},
   "outputs": [
    {
     "name": "stdout",
     "output_type": "stream",
     "text": [
      "Fitting 5 folds for each of 9 candidates, totalling 45 fits\n"
     ]
    },
    {
     "name": "stderr",
     "output_type": "stream",
     "text": [
      "[Parallel(n_jobs=1)]: Using backend SequentialBackend with 1 concurrent workers.\n",
      "[Parallel(n_jobs=1)]: Done  45 out of  45 | elapsed:   28.8s finished\n"
     ]
    },
    {
     "data": {
      "text/plain": [
       "GridSearchCV(cv=5, error_score='raise-deprecating',\n",
       "             estimator=Pipeline(memory=None,\n",
       "                                steps=[('cvec',\n",
       "                                        CountVectorizer(analyzer='word',\n",
       "                                                        binary=False,\n",
       "                                                        decode_error='strict',\n",
       "                                                        dtype=<class 'numpy.int64'>,\n",
       "                                                        encoding='utf-8',\n",
       "                                                        input='content',\n",
       "                                                        lowercase=True,\n",
       "                                                        max_df=1.0,\n",
       "                                                        max_features=1200,\n",
       "                                                        min_df=1,\n",
       "                                                        ngram_range=(1, 2),\n",
       "                                                        preprocessor=None,\n",
       "                                                        stop_words=['cry', 'a',\n",
       "                                                                    'at',\n",
       "                                                                    'whose',\n",
       "                                                                    'wh...\n",
       "                                                           intercept_scaling=1,\n",
       "                                                           l1_ratio=None,\n",
       "                                                           max_iter=100,\n",
       "                                                           multi_class='warn',\n",
       "                                                           n_jobs=None,\n",
       "                                                           penalty='l2',\n",
       "                                                           random_state=None,\n",
       "                                                           solver='warn',\n",
       "                                                           tol=0.0001,\n",
       "                                                           verbose=0,\n",
       "                                                           warm_start=False))],\n",
       "                                verbose=False),\n",
       "             iid='warn', n_jobs=None,\n",
       "             param_grid={'cvec__max_df': [0.35, 0.45, 0.55],\n",
       "                         'cvec__min_df': [20, 40, 50]},\n",
       "             pre_dispatch='2*n_jobs', refit=True, return_train_score=False,\n",
       "             scoring=None, verbose=1)"
      ]
     },
     "execution_count": 235,
     "metadata": {},
     "output_type": "execute_result"
    }
   ],
   "source": [
    "# fit gridsearch CV to train data\n",
    "gs1.fit(X_train, y_train)"
   ]
  },
  {
   "cell_type": "code",
   "execution_count": 236,
   "metadata": {},
   "outputs": [
    {
     "data": {
      "text/plain": [
       "0.8398135818908122"
      ]
     },
     "execution_count": 236,
     "metadata": {},
     "output_type": "execute_result"
    }
   ],
   "source": [
    "# Best score\n",
    "gs1.best_score_"
   ]
  },
  {
   "cell_type": "code",
   "execution_count": 237,
   "metadata": {},
   "outputs": [
    {
     "data": {
      "text/plain": [
       "{'cvec__max_df': 0.35, 'cvec__min_df': 20}"
      ]
     },
     "execution_count": 237,
     "metadata": {},
     "output_type": "execute_result"
    }
   ],
   "source": [
    "gs1.best_params_"
   ]
  },
  {
   "cell_type": "code",
   "execution_count": 238,
   "metadata": {},
   "outputs": [],
   "source": [
    "# Save the best model\n",
    "gs1_model = gs1.best_estimator_"
   ]
  },
  {
   "cell_type": "code",
   "execution_count": 239,
   "metadata": {},
   "outputs": [
    {
     "name": "stdout",
     "output_type": "stream",
     "text": [
      "Model_1 Train score: 0.8697736351531291\n",
      "Model_1 Test score: 0.8418918918918918\n"
     ]
    }
   ],
   "source": [
    "# Score best model on train set\n",
    "print(f\"Model_1 Train score: {gs1_model.score(X_train, y_train)}\")\n",
    "# Score best model on test set\n",
    "print(f\"Model_1 Test score: {gs1_model.score(X_test, y_test)}\")"
   ]
  },
  {
   "cell_type": "code",
   "execution_count": 232,
   "metadata": {},
   "outputs": [],
   "source": [
    "# Generate predictions\n",
    "preds =gs1_model.predict(X_test)"
   ]
  },
  {
   "cell_type": "code",
   "execution_count": 233,
   "metadata": {},
   "outputs": [
    {
     "data": {
      "text/plain": [
       "array([[1623,  199],\n",
       "       [ 432, 1446]], dtype=int64)"
      ]
     },
     "execution_count": 233,
     "metadata": {},
     "output_type": "execute_result"
    }
   ],
   "source": [
    "# Generate confusion matrix\n",
    "confusion_matrix(y_test, # True values\n",
    "                 preds)  # Predicted values"
   ]
  },
  {
   "cell_type": "code",
   "execution_count": 136,
   "metadata": {},
   "outputs": [],
   "source": [
    "tn, fp, fn, tp = confusion_matrix(y_test,\n",
    "                                  preds).ravel()"
   ]
  },
  {
   "cell_type": "code",
   "execution_count": 137,
   "metadata": {},
   "outputs": [
    {
     "data": {
      "text/plain": [
       "157"
      ]
     },
     "execution_count": 137,
     "metadata": {},
     "output_type": "execute_result"
    }
   ],
   "source": [
    "fp"
   ]
  },
  {
   "cell_type": "code",
   "execution_count": 138,
   "metadata": {},
   "outputs": [
    {
     "data": {
      "text/plain": [
       "364"
      ]
     },
     "execution_count": 138,
     "metadata": {},
     "output_type": "execute_result"
    }
   ],
   "source": [
    "fn"
   ]
  },
  {
   "cell_type": "code",
   "execution_count": 139,
   "metadata": {},
   "outputs": [
    {
     "data": {
      "text/plain": [
       "1289"
      ]
     },
     "execution_count": 139,
     "metadata": {},
     "output_type": "execute_result"
    }
   ],
   "source": [
    "tp"
   ]
  },
  {
   "cell_type": "code",
   "execution_count": 140,
   "metadata": {},
   "outputs": [
    {
     "data": {
      "text/plain": [
       "1098"
      ]
     },
     "execution_count": 140,
     "metadata": {},
     "output_type": "execute_result"
    }
   ],
   "source": [
    "tn"
   ]
  },
  {
   "cell_type": "markdown",
   "metadata": {},
   "source": [
    "## Explort DataFrame"
   ]
  },
  {
   "cell_type": "code",
   "execution_count": 240,
   "metadata": {},
   "outputs": [],
   "source": [
    "labeled_df.to_csv('labeled_df.csv')"
   ]
  },
  {
   "cell_type": "code",
   "execution_count": null,
   "metadata": {},
   "outputs": [],
   "source": []
  }
 ],
 "metadata": {
  "kernelspec": {
   "display_name": "Python 3",
   "language": "python",
   "name": "python3"
  },
  "language_info": {
   "codemirror_mode": {
    "name": "ipython",
    "version": 3
   },
   "file_extension": ".py",
   "mimetype": "text/x-python",
   "name": "python",
   "nbconvert_exporter": "python",
   "pygments_lexer": "ipython3",
   "version": "3.7.4"
  }
 },
 "nbformat": 4,
 "nbformat_minor": 2
}
