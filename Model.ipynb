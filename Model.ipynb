{
 "cells": [
  {
   "cell_type": "code",
   "execution_count": 1,
   "metadata": {},
   "outputs": [],
   "source": [
    "# Imports\n",
    "import pandas as pd\n",
    "import numpy as np\n",
    "import matplotlib.pyplot as plt\n",
    "import seaborn as sns\n",
    "\n",
    "from sklearn.model_selection import train_test_split, GridSearchCV\n",
    "from sklearn.feature_extraction.text import CountVectorizer, TfidfVectorizer, TfidfTransformer, ENGLISH_STOP_WORDS\n",
    "from sklearn.linear_model import LogisticRegression\n",
    "from sklearn.naive_bayes import MultinomialNB, GaussianNB\n",
    "from sklearn.metrics import confusion_matrix, accuracy_score, classification\n",
    "from sklearn.neighbors import KNeighborsClassifier\n",
    "from sklearn.tree import DecisionTreeClassifier\n",
    "from sklearn.ensemble import RandomForestClassifier\n",
    "from sklearn.pipeline import Pipeline, FeatureUnion\n",
    "from sklearn.preprocessing import StandardScaler, FunctionTransformer\n",
    "\n",
    "import nltk\n",
    "from nltk.stem import WordNetLemmatizer\n",
    "lemmatizer = WordNetLemmatizer()\n",
    "\n",
    "import regex as re\n",
    "\n",
    "from bs4 import BeautifulSoup"
   ]
  },
  {
   "cell_type": "code",
   "execution_count": 2,
   "metadata": {},
   "outputs": [],
   "source": [
    "import warnings\n",
    "warnings.filterwarnings('ignore')"
   ]
  },
  {
   "cell_type": "code",
   "execution_count": 3,
   "metadata": {},
   "outputs": [],
   "source": [
    "# read the file\n",
    "fires_labeled_df = pd.read_csv('./fire_filtered.csv')"
   ]
  },
  {
   "cell_type": "code",
   "execution_count": 44,
   "metadata": {},
   "outputs": [],
   "source": [
    "nonfires_labeled_df = pd.read_csv('./la_nonfire_1600_tweets.csv')"
   ]
  },
  {
   "cell_type": "code",
   "execution_count": 46,
   "metadata": {},
   "outputs": [
    {
     "data": {
      "text/html": [
       "<div>\n",
       "<style scoped>\n",
       "    .dataframe tbody tr th:only-of-type {\n",
       "        vertical-align: middle;\n",
       "    }\n",
       "\n",
       "    .dataframe tbody tr th {\n",
       "        vertical-align: top;\n",
       "    }\n",
       "\n",
       "    .dataframe thead th {\n",
       "        text-align: right;\n",
       "    }\n",
       "</style>\n",
       "<table border=\"1\" class=\"dataframe\">\n",
       "  <thead>\n",
       "    <tr style=\"text-align: right;\">\n",
       "      <th></th>\n",
       "      <th>text</th>\n",
       "      <th>time</th>\n",
       "      <th>long</th>\n",
       "      <th>lat</th>\n",
       "      <th>target</th>\n",
       "    </tr>\n",
       "  </thead>\n",
       "  <tbody>\n",
       "    <tr>\n",
       "      <td>0</td>\n",
       "      <td>pic.twitter.com/3VCVQKyBmm</td>\n",
       "      <td>2019-08-20 10:00:00</td>\n",
       "      <td>34.1826</td>\n",
       "      <td>-118.4397</td>\n",
       "      <td>0</td>\n",
       "    </tr>\n",
       "    <tr>\n",
       "      <td>1</td>\n",
       "      <td>Tuesday, i saw no more #ghosttownalive founder...</td>\n",
       "      <td>2019-08-20 10:00:00</td>\n",
       "      <td>34.1826</td>\n",
       "      <td>-118.4397</td>\n",
       "      <td>0</td>\n",
       "    </tr>\n",
       "    <tr>\n",
       "      <td>2</td>\n",
       "      <td>Of course ALL THE ABOVE!!</td>\n",
       "      <td>2019-08-20 10:00:00</td>\n",
       "      <td>34.1826</td>\n",
       "      <td>-118.4397</td>\n",
       "      <td>0</td>\n",
       "    </tr>\n",
       "    <tr>\n",
       "      <td>3</td>\n",
       "      <td>I'm too busy looking for the talent.</td>\n",
       "      <td>2019-08-20 10:00:00</td>\n",
       "      <td>34.1826</td>\n",
       "      <td>-118.4397</td>\n",
       "      <td>0</td>\n",
       "    </tr>\n",
       "    <tr>\n",
       "      <td>4</td>\n",
       "      <td>Lucky enough to celebrate the end of Justin’s ...</td>\n",
       "      <td>2019-08-20 10:00:00</td>\n",
       "      <td>34.1826</td>\n",
       "      <td>-118.4397</td>\n",
       "      <td>0</td>\n",
       "    </tr>\n",
       "  </tbody>\n",
       "</table>\n",
       "</div>"
      ],
      "text/plain": [
       "                                                text                 time  \\\n",
       "0                         pic.twitter.com/3VCVQKyBmm  2019-08-20 10:00:00   \n",
       "1  Tuesday, i saw no more #ghosttownalive founder...  2019-08-20 10:00:00   \n",
       "2                          Of course ALL THE ABOVE!!  2019-08-20 10:00:00   \n",
       "3               I'm too busy looking for the talent.  2019-08-20 10:00:00   \n",
       "4  Lucky enough to celebrate the end of Justin’s ...  2019-08-20 10:00:00   \n",
       "\n",
       "      long       lat  target  \n",
       "0  34.1826 -118.4397       0  \n",
       "1  34.1826 -118.4397       0  \n",
       "2  34.1826 -118.4397       0  \n",
       "3  34.1826 -118.4397       0  \n",
       "4  34.1826 -118.4397       0  "
      ]
     },
     "execution_count": 46,
     "metadata": {},
     "output_type": "execute_result"
    }
   ],
   "source": [
    "nonfires_labeled_df.head()"
   ]
  },
  {
   "cell_type": "code",
   "execution_count": 4,
   "metadata": {},
   "outputs": [],
   "source": [
    "fires_labeled_df.drop('Unnamed: 0', axis=1, inplace=True)"
   ]
  },
  {
   "cell_type": "code",
   "execution_count": 5,
   "metadata": {},
   "outputs": [
    {
     "data": {
      "text/html": [
       "<div>\n",
       "<style scoped>\n",
       "    .dataframe tbody tr th:only-of-type {\n",
       "        vertical-align: middle;\n",
       "    }\n",
       "\n",
       "    .dataframe tbody tr th {\n",
       "        vertical-align: top;\n",
       "    }\n",
       "\n",
       "    .dataframe thead th {\n",
       "        text-align: right;\n",
       "    }\n",
       "</style>\n",
       "<table border=\"1\" class=\"dataframe\">\n",
       "  <thead>\n",
       "    <tr style=\"text-align: right;\">\n",
       "      <th></th>\n",
       "      <th>time</th>\n",
       "      <th>related</th>\n",
       "      <th>informative</th>\n",
       "      <th>text</th>\n",
       "    </tr>\n",
       "  </thead>\n",
       "  <tbody>\n",
       "    <tr>\n",
       "      <td>0</td>\n",
       "      <td>10/29/2019 22:56</td>\n",
       "      <td>U</td>\n",
       "      <td>N</td>\n",
       "      <td>RT @JulianCastro: My grandmother was a domesti...</td>\n",
       "    </tr>\n",
       "    <tr>\n",
       "      <td>1</td>\n",
       "      <td>10/29/2019 22:56</td>\n",
       "      <td>R</td>\n",
       "      <td>I</td>\n",
       "      <td>RT @MayorOfLA: #GettyFire update | 8AM:\\n\\n- 5...</td>\n",
       "    </tr>\n",
       "    <tr>\n",
       "      <td>2</td>\n",
       "      <td>10/29/2019 22:56</td>\n",
       "      <td>R</td>\n",
       "      <td>I</td>\n",
       "      <td>Getty Fire Ignited by Power Line in Sepulveda ...</td>\n",
       "    </tr>\n",
       "    <tr>\n",
       "      <td>3</td>\n",
       "      <td>10/29/2019 22:56</td>\n",
       "      <td>R</td>\n",
       "      <td>I</td>\n",
       "      <td>RT @latimes: In an ominous new warning, the Na...</td>\n",
       "    </tr>\n",
       "    <tr>\n",
       "      <td>4</td>\n",
       "      <td>10/29/2019 22:56</td>\n",
       "      <td>R</td>\n",
       "      <td>I</td>\n",
       "      <td>Arson investigators from the Los Angeles Fire ...</td>\n",
       "    </tr>\n",
       "  </tbody>\n",
       "</table>\n",
       "</div>"
      ],
      "text/plain": [
       "               time related informative  \\\n",
       "0  10/29/2019 22:56       U           N   \n",
       "1  10/29/2019 22:56       R           I   \n",
       "2  10/29/2019 22:56       R           I   \n",
       "3  10/29/2019 22:56       R           I   \n",
       "4  10/29/2019 22:56       R           I   \n",
       "\n",
       "                                                text  \n",
       "0  RT @JulianCastro: My grandmother was a domesti...  \n",
       "1  RT @MayorOfLA: #GettyFire update | 8AM:\\n\\n- 5...  \n",
       "2  Getty Fire Ignited by Power Line in Sepulveda ...  \n",
       "3  RT @latimes: In an ominous new warning, the Na...  \n",
       "4  Arson investigators from the Los Angeles Fire ...  "
      ]
     },
     "execution_count": 5,
     "metadata": {},
     "output_type": "execute_result"
    }
   ],
   "source": [
    "fires_labeled_df.head()"
   ]
  },
  {
   "cell_type": "code",
   "execution_count": 6,
   "metadata": {},
   "outputs": [
    {
     "data": {
      "text/plain": [
       "time           object\n",
       "related        object\n",
       "informative    object\n",
       "text           object\n",
       "dtype: object"
      ]
     },
     "execution_count": 6,
     "metadata": {},
     "output_type": "execute_result"
    }
   ],
   "source": [
    "fires_labeled_df.dtypes"
   ]
  },
  {
   "cell_type": "code",
   "execution_count": 7,
   "metadata": {},
   "outputs": [],
   "source": [
    "fires_labeled_df['target'] = np.where((fires_labeled_df['related'] == 'R') & (fires_labeled_df['informative'] == 'I'), 1, 0)"
   ]
  },
  {
   "cell_type": "code",
   "execution_count": 8,
   "metadata": {},
   "outputs": [
    {
     "data": {
      "text/html": [
       "<div>\n",
       "<style scoped>\n",
       "    .dataframe tbody tr th:only-of-type {\n",
       "        vertical-align: middle;\n",
       "    }\n",
       "\n",
       "    .dataframe tbody tr th {\n",
       "        vertical-align: top;\n",
       "    }\n",
       "\n",
       "    .dataframe thead th {\n",
       "        text-align: right;\n",
       "    }\n",
       "</style>\n",
       "<table border=\"1\" class=\"dataframe\">\n",
       "  <thead>\n",
       "    <tr style=\"text-align: right;\">\n",
       "      <th></th>\n",
       "      <th>time</th>\n",
       "      <th>related</th>\n",
       "      <th>informative</th>\n",
       "      <th>text</th>\n",
       "      <th>target</th>\n",
       "    </tr>\n",
       "  </thead>\n",
       "  <tbody>\n",
       "    <tr>\n",
       "      <td>0</td>\n",
       "      <td>10/29/2019 22:56</td>\n",
       "      <td>U</td>\n",
       "      <td>N</td>\n",
       "      <td>RT @JulianCastro: My grandmother was a domesti...</td>\n",
       "      <td>0</td>\n",
       "    </tr>\n",
       "    <tr>\n",
       "      <td>1</td>\n",
       "      <td>10/29/2019 22:56</td>\n",
       "      <td>R</td>\n",
       "      <td>I</td>\n",
       "      <td>RT @MayorOfLA: #GettyFire update | 8AM:\\n\\n- 5...</td>\n",
       "      <td>1</td>\n",
       "    </tr>\n",
       "    <tr>\n",
       "      <td>2</td>\n",
       "      <td>10/29/2019 22:56</td>\n",
       "      <td>R</td>\n",
       "      <td>I</td>\n",
       "      <td>Getty Fire Ignited by Power Line in Sepulveda ...</td>\n",
       "      <td>1</td>\n",
       "    </tr>\n",
       "    <tr>\n",
       "      <td>3</td>\n",
       "      <td>10/29/2019 22:56</td>\n",
       "      <td>R</td>\n",
       "      <td>I</td>\n",
       "      <td>RT @latimes: In an ominous new warning, the Na...</td>\n",
       "      <td>1</td>\n",
       "    </tr>\n",
       "    <tr>\n",
       "      <td>4</td>\n",
       "      <td>10/29/2019 22:56</td>\n",
       "      <td>R</td>\n",
       "      <td>I</td>\n",
       "      <td>Arson investigators from the Los Angeles Fire ...</td>\n",
       "      <td>1</td>\n",
       "    </tr>\n",
       "    <tr>\n",
       "      <td>...</td>\n",
       "      <td>...</td>\n",
       "      <td>...</td>\n",
       "      <td>...</td>\n",
       "      <td>...</td>\n",
       "      <td>...</td>\n",
       "    </tr>\n",
       "    <tr>\n",
       "      <td>2190</td>\n",
       "      <td>10/25/2019 18:27</td>\n",
       "      <td>R</td>\n",
       "      <td>I</td>\n",
       "      <td>b\"Friday fire update from Healdsburg. It's smo...</td>\n",
       "      <td>1</td>\n",
       "    </tr>\n",
       "    <tr>\n",
       "      <td>2191</td>\n",
       "      <td>10/25/2019 18:23</td>\n",
       "      <td>R</td>\n",
       "      <td>I</td>\n",
       "      <td>b'RT @tedappel: Broken equipment found on @PGE...</td>\n",
       "      <td>1</td>\n",
       "    </tr>\n",
       "    <tr>\n",
       "      <td>2192</td>\n",
       "      <td>10/25/2019 18:21</td>\n",
       "      <td>R</td>\n",
       "      <td>I</td>\n",
       "      <td>b'Whelp, nother wildfire about 30 miles north,...</td>\n",
       "      <td>1</td>\n",
       "    </tr>\n",
       "    <tr>\n",
       "      <td>2193</td>\n",
       "      <td>10/25/2019 18:11</td>\n",
       "      <td>R</td>\n",
       "      <td>I</td>\n",
       "      <td>b'RT @KinsellaWine: Fire in Geyserville, one t...</td>\n",
       "      <td>1</td>\n",
       "    </tr>\n",
       "    <tr>\n",
       "      <td>2194</td>\n",
       "      <td>10/25/2019 17:59</td>\n",
       "      <td>N</td>\n",
       "      <td>U</td>\n",
       "      <td>b'@Nich0lasDangelo Ok, song aside, that new pf...</td>\n",
       "      <td>0</td>\n",
       "    </tr>\n",
       "  </tbody>\n",
       "</table>\n",
       "<p>2195 rows × 5 columns</p>\n",
       "</div>"
      ],
      "text/plain": [
       "                  time related informative  \\\n",
       "0     10/29/2019 22:56       U           N   \n",
       "1     10/29/2019 22:56       R           I   \n",
       "2     10/29/2019 22:56       R           I   \n",
       "3     10/29/2019 22:56       R           I   \n",
       "4     10/29/2019 22:56       R           I   \n",
       "...                ...     ...         ...   \n",
       "2190  10/25/2019 18:27       R           I   \n",
       "2191  10/25/2019 18:23       R           I   \n",
       "2192  10/25/2019 18:21       R           I   \n",
       "2193  10/25/2019 18:11       R           I   \n",
       "2194  10/25/2019 17:59       N           U   \n",
       "\n",
       "                                                   text  target  \n",
       "0     RT @JulianCastro: My grandmother was a domesti...       0  \n",
       "1     RT @MayorOfLA: #GettyFire update | 8AM:\\n\\n- 5...       1  \n",
       "2     Getty Fire Ignited by Power Line in Sepulveda ...       1  \n",
       "3     RT @latimes: In an ominous new warning, the Na...       1  \n",
       "4     Arson investigators from the Los Angeles Fire ...       1  \n",
       "...                                                 ...     ...  \n",
       "2190  b\"Friday fire update from Healdsburg. It's smo...       1  \n",
       "2191  b'RT @tedappel: Broken equipment found on @PGE...       1  \n",
       "2192  b'Whelp, nother wildfire about 30 miles north,...       1  \n",
       "2193  b'RT @KinsellaWine: Fire in Geyserville, one t...       1  \n",
       "2194  b'@Nich0lasDangelo Ok, song aside, that new pf...       0  \n",
       "\n",
       "[2195 rows x 5 columns]"
      ]
     },
     "execution_count": 8,
     "metadata": {},
     "output_type": "execute_result"
    }
   ],
   "source": [
    "fires_labeled_df"
   ]
  },
  {
   "cell_type": "code",
   "execution_count": 40,
   "metadata": {},
   "outputs": [
    {
     "data": {
      "text/plain": [
       "1    1884\n",
       "0     311\n",
       "Name: target, dtype: int64"
      ]
     },
     "execution_count": 40,
     "metadata": {},
     "output_type": "execute_result"
    }
   ],
   "source": [
    "fires_labeled_df['target'].value_counts()"
   ]
  },
  {
   "cell_type": "code",
   "execution_count": 51,
   "metadata": {},
   "outputs": [],
   "source": [
    "fires_labeled_df.drop(columns=['related', 'informative'], inplace=True)"
   ]
  },
  {
   "cell_type": "code",
   "execution_count": 52,
   "metadata": {},
   "outputs": [],
   "source": [
    "nonfires_labeled_df.drop(columns=['long', 'lat'], inplace=True)"
   ]
  },
  {
   "cell_type": "code",
   "execution_count": 84,
   "metadata": {},
   "outputs": [],
   "source": [
    "labeled_df = pd.concat([fires_labeled_df, nonfires_labeled_df])\n",
    "labeled_df = labeled_df.drop_duplicates().dropna().reset_index(drop=True)"
   ]
  },
  {
   "cell_type": "code",
   "execution_count": 85,
   "metadata": {},
   "outputs": [
    {
     "data": {
      "text/html": [
       "<div>\n",
       "<style scoped>\n",
       "    .dataframe tbody tr th:only-of-type {\n",
       "        vertical-align: middle;\n",
       "    }\n",
       "\n",
       "    .dataframe tbody tr th {\n",
       "        vertical-align: top;\n",
       "    }\n",
       "\n",
       "    .dataframe thead th {\n",
       "        text-align: right;\n",
       "    }\n",
       "</style>\n",
       "<table border=\"1\" class=\"dataframe\">\n",
       "  <thead>\n",
       "    <tr style=\"text-align: right;\">\n",
       "      <th></th>\n",
       "      <th>target</th>\n",
       "      <th>text</th>\n",
       "      <th>time</th>\n",
       "    </tr>\n",
       "  </thead>\n",
       "  <tbody>\n",
       "    <tr>\n",
       "      <td>0</td>\n",
       "      <td>0</td>\n",
       "      <td>rt juliancastro grandmother domestic worker cl...</td>\n",
       "      <td>10/29/2019 22:56</td>\n",
       "    </tr>\n",
       "    <tr>\n",
       "      <td>1</td>\n",
       "      <td>1</td>\n",
       "      <td>rt mayorofla gettyfire update n n containment ...</td>\n",
       "      <td>10/29/2019 22:56</td>\n",
       "    </tr>\n",
       "    <tr>\n",
       "      <td>2</td>\n",
       "      <td>1</td>\n",
       "      <td>getty ignited power line sepulveda pass t f tx...</td>\n",
       "      <td>10/29/2019 22:56</td>\n",
       "    </tr>\n",
       "    <tr>\n",
       "      <td>3</td>\n",
       "      <td>1</td>\n",
       "      <td>rt latimes ominous new warning national weathe...</td>\n",
       "      <td>10/29/2019 22:56</td>\n",
       "    </tr>\n",
       "    <tr>\n",
       "      <td>4</td>\n",
       "      <td>1</td>\n",
       "      <td>arson investigators los angeles department sai...</td>\n",
       "      <td>10/29/2019 22:56</td>\n",
       "    </tr>\n",
       "    <tr>\n",
       "      <td>...</td>\n",
       "      <td>...</td>\n",
       "      <td>...</td>\n",
       "      <td>...</td>\n",
       "    </tr>\n",
       "    <tr>\n",
       "      <td>3789</td>\n",
       "      <td>0</td>\n",
       "      <td>Too awesome! Will be shopping for my Titan pup...</td>\n",
       "      <td>2019-08-20 10:00:00</td>\n",
       "    </tr>\n",
       "    <tr>\n",
       "      <td>3790</td>\n",
       "      <td>0</td>\n",
       "      <td>This was an awesome find by @MitchTheFort. So ...</td>\n",
       "      <td>2019-08-20 10:00:00</td>\n",
       "    </tr>\n",
       "    <tr>\n",
       "      <td>3791</td>\n",
       "      <td>0</td>\n",
       "      <td>Some great company here*. *ignoring 2015https:...</td>\n",
       "      <td>2019-08-20 10:00:00</td>\n",
       "    </tr>\n",
       "    <tr>\n",
       "      <td>3792</td>\n",
       "      <td>0</td>\n",
       "      <td>ur coming out im so proud of u</td>\n",
       "      <td>2019-08-20 10:00:00</td>\n",
       "    </tr>\n",
       "    <tr>\n",
       "      <td>3793</td>\n",
       "      <td>0</td>\n",
       "      <td>Matt LaFleur’s cut is CLEAN ass hell</td>\n",
       "      <td>2019-08-20 10:00:00</td>\n",
       "    </tr>\n",
       "  </tbody>\n",
       "</table>\n",
       "<p>3794 rows × 3 columns</p>\n",
       "</div>"
      ],
      "text/plain": [
       "      target                                               text  \\\n",
       "0          0  rt juliancastro grandmother domestic worker cl...   \n",
       "1          1  rt mayorofla gettyfire update n n containment ...   \n",
       "2          1  getty ignited power line sepulveda pass t f tx...   \n",
       "3          1  rt latimes ominous new warning national weathe...   \n",
       "4          1  arson investigators los angeles department sai...   \n",
       "...      ...                                                ...   \n",
       "3789       0  Too awesome! Will be shopping for my Titan pup...   \n",
       "3790       0  This was an awesome find by @MitchTheFort. So ...   \n",
       "3791       0  Some great company here*. *ignoring 2015https:...   \n",
       "3792       0                     ur coming out im so proud of u   \n",
       "3793       0               Matt LaFleur’s cut is CLEAN ass hell   \n",
       "\n",
       "                     time  \n",
       "0        10/29/2019 22:56  \n",
       "1        10/29/2019 22:56  \n",
       "2        10/29/2019 22:56  \n",
       "3        10/29/2019 22:56  \n",
       "4        10/29/2019 22:56  \n",
       "...                   ...  \n",
       "3789  2019-08-20 10:00:00  \n",
       "3790  2019-08-20 10:00:00  \n",
       "3791  2019-08-20 10:00:00  \n",
       "3792  2019-08-20 10:00:00  \n",
       "3793  2019-08-20 10:00:00  \n",
       "\n",
       "[3794 rows x 3 columns]"
      ]
     },
     "execution_count": 85,
     "metadata": {},
     "output_type": "execute_result"
    }
   ],
   "source": [
    "labeled_df"
   ]
  },
  {
   "cell_type": "code",
   "execution_count": 86,
   "metadata": {},
   "outputs": [
    {
     "data": {
      "text/plain": [
       "target    0\n",
       "text      0\n",
       "time      0\n",
       "dtype: int64"
      ]
     },
     "execution_count": 86,
     "metadata": {},
     "output_type": "execute_result"
    }
   ],
   "source": [
    "labeled_df.isnull().sum()"
   ]
  },
  {
   "cell_type": "code",
   "execution_count": 63,
   "metadata": {},
   "outputs": [
    {
     "data": {
      "text/plain": [
       "0    0.503557\n",
       "1    0.496443\n",
       "Name: target, dtype: float64"
      ]
     },
     "execution_count": 63,
     "metadata": {},
     "output_type": "execute_result"
    }
   ],
   "source": [
    "labeled_df['target'].value_counts(normalize=True)"
   ]
  },
  {
   "cell_type": "code",
   "execution_count": 64,
   "metadata": {},
   "outputs": [],
   "source": [
    "custom_stop = list(ENGLISH_STOP_WORDS)\n",
    "custom_stop.extend([\"b'RT\", \"xe2\", \"x80\", \"x99\", \"xf0\", \"htpps\", \"xa6\", \"x9f\", \"Getty Center\", \"Los Angeles\",\n",
    "                    \"Los Angele\", \"Getty\", \"x99m\", \"x99s\", \"Los\", \"Angele\", \"taco truck\", \"outfit\", \"taco\", \"truck\",\n",
    "                   \"http\", \"https\", \"x94\", \"xa5\", \"nhttp\", \"nhttps\", \"b'\", \"Center\", \"amp\", \"GettyFire\", \"RT\", \"www\",\n",
    "                   \"instagram\", \"xa6'b'RT\", \"xa6'b'\", \"xa6'RT\", \"xb8\", \"x9d\", \"xef\", \"x8f\"])"
   ]
  },
  {
   "cell_type": "code",
   "execution_count": 70,
   "metadata": {},
   "outputs": [],
   "source": [
    "# define a function to clean text from html tags, non-leters, english stop words, custom stop words\n",
    "\n",
    "def cleanup_lemmatize_text(document):\n",
    "    # remove HTML\n",
    "    # text = BeautifulSoup(document).get_text()\n",
    "    # remove non-letter characters\n",
    "    letters = re.sub(\"[^a-zA-Z]\", \" \", document)    \n",
    "    # all words lower case\n",
    "    words = letters.lower().split()\n",
    "    # remove stop words (english + custom)\n",
    "    stops = set(custom_stop)\n",
    "    clean_words = [word for word in words if word not in stops]\n",
    "    # lemmatize cleaned up words\n",
    "    # lem_clean_words = [lemmatizer.lemmatize(token) for token in clean_words]\n",
    "    \n",
    "    # returned the cleand up string\n",
    "    return(\" \".join(clean_words))"
   ]
  },
  {
   "cell_type": "code",
   "execution_count": 71,
   "metadata": {},
   "outputs": [],
   "source": [
    "# # initialize an empty list to hold the clean titles\n",
    "# clean_text = []\n",
    "\n",
    "# for text in labeled_df['text']:\n",
    "#     # convert title to words, then append to clean_titles list\n",
    "#     clean_text.append(cleanup_lemmatize_text(text))"
   ]
  },
  {
   "cell_type": "code",
   "execution_count": 67,
   "metadata": {},
   "outputs": [
    {
     "data": {
      "text/plain": [
       "2342"
      ]
     },
     "execution_count": 67,
     "metadata": {},
     "output_type": "execute_result"
    }
   ],
   "source": [
    "len(clean_text)"
   ]
  },
  {
   "cell_type": "code",
   "execution_count": 13,
   "metadata": {},
   "outputs": [],
   "source": [
    "fires_labeled_df['text'] = clean_text"
   ]
  },
  {
   "cell_type": "code",
   "execution_count": 88,
   "metadata": {},
   "outputs": [],
   "source": [
    "# define features variable(s) with only title column\n",
    "# I will not add body because first subreddit has a lot of blank posts that would cause unbalanced features\n",
    "X = labeled_df['text']\n",
    "\n",
    "# define target variable\n",
    "y = labeled_df['target']"
   ]
  },
  {
   "cell_type": "code",
   "execution_count": 89,
   "metadata": {},
   "outputs": [],
   "source": [
    "# split the data into the training and testing sets\n",
    "# set a random state for reproducibility \n",
    "# stratify y to combat slightly unbalanced classes\n",
    "X_train, X_test, y_train, y_test = train_test_split(X,\n",
    "                                                    y,\n",
    "                                                    test_size=0.33,\n",
    "                                                    stratify=y,\n",
    "                                                    random_state=42)"
   ]
  },
  {
   "cell_type": "code",
   "execution_count": 78,
   "metadata": {},
   "outputs": [
    {
     "data": {
      "text/plain": [
       "0    0.503591\n",
       "1    0.496409\n",
       "Name: target, dtype: float64"
      ]
     },
     "execution_count": 78,
     "metadata": {},
     "output_type": "execute_result"
    }
   ],
   "source": [
    "# Baseline accuracy on test data\n",
    "y_test.value_counts(normalize=True)"
   ]
  },
  {
   "cell_type": "code",
   "execution_count": 90,
   "metadata": {},
   "outputs": [],
   "source": [
    "# CountVectorizer (transformer) & LogisticRegression (estimator)\n",
    "\n",
    "pipe1 = Pipeline([\n",
    "        ('cvec', CountVectorizer(stop_words=custom_stop, max_features=1200, ngram_range=(1,2))),\n",
    "        ('logreg', LogisticRegression())\n",
    "])\n",
    "\n",
    "pipe1_params = {\n",
    "  #  'cvec__max_features': [1200, 1800, 2000, 2500],\n",
    "  #  'cvec__stop_words': ['custom_stop'],\n",
    "  #  'cvec__ngram_range': [(1,1), (1,2), (1,3)],\n",
    "    'cvec__min_df': [50, 100, 200],\n",
    "    'cvec__max_df': [.55, .75, .85],\n",
    " #   'cvec__strip_accents': ['ascii'],\n",
    "  #  'logreg__penalty': ['l1', 'l2'],\n",
    "  #  'logreg__C': [2, 2.5, 3]\n",
    "}\n",
    "\n",
    "gs1 = GridSearchCV(pipe1,  # object to be optimized\n",
    "                   pipe1_params, # parameter values to be searched\n",
    "                   cv=5, # 5 folds\n",
    "                   verbose = 1,\n",
    "             #      n_jobs = -1\n",
    "                  )"
   ]
  },
  {
   "cell_type": "code",
   "execution_count": 91,
   "metadata": {},
   "outputs": [
    {
     "name": "stdout",
     "output_type": "stream",
     "text": [
      "Fitting 5 folds for each of 9 candidates, totalling 45 fits\n"
     ]
    },
    {
     "name": "stderr",
     "output_type": "stream",
     "text": [
      "[Parallel(n_jobs=1)]: Using backend SequentialBackend with 1 concurrent workers.\n",
      "[Parallel(n_jobs=1)]: Done  45 out of  45 | elapsed:    9.0s finished\n"
     ]
    },
    {
     "data": {
      "text/plain": [
       "GridSearchCV(cv=5, error_score='raise-deprecating',\n",
       "             estimator=Pipeline(memory=None,\n",
       "                                steps=[('cvec',\n",
       "                                        CountVectorizer(analyzer='word',\n",
       "                                                        binary=False,\n",
       "                                                        decode_error='strict',\n",
       "                                                        dtype=<class 'numpy.int64'>,\n",
       "                                                        encoding='utf-8',\n",
       "                                                        input='content',\n",
       "                                                        lowercase=True,\n",
       "                                                        max_df=1.0,\n",
       "                                                        max_features=1200,\n",
       "                                                        min_df=1,\n",
       "                                                        ngram_range=(1, 2),\n",
       "                                                        preprocessor=None,\n",
       "                                                        stop_words=['cry', 'a',\n",
       "                                                                    'at',\n",
       "                                                                    'whose',\n",
       "                                                                    'wh...\n",
       "                                                           intercept_scaling=1,\n",
       "                                                           l1_ratio=None,\n",
       "                                                           max_iter=100,\n",
       "                                                           multi_class='warn',\n",
       "                                                           n_jobs=None,\n",
       "                                                           penalty='l2',\n",
       "                                                           random_state=None,\n",
       "                                                           solver='warn',\n",
       "                                                           tol=0.0001,\n",
       "                                                           verbose=0,\n",
       "                                                           warm_start=False))],\n",
       "                                verbose=False),\n",
       "             iid='warn', n_jobs=None,\n",
       "             param_grid={'cvec__max_df': [0.55, 0.75, 0.85],\n",
       "                         'cvec__min_df': [50, 100, 200]},\n",
       "             pre_dispatch='2*n_jobs', refit=True, return_train_score=False,\n",
       "             scoring=None, verbose=1)"
      ]
     },
     "execution_count": 91,
     "metadata": {},
     "output_type": "execute_result"
    }
   ],
   "source": [
    "# fit gridsearch CV to train data\n",
    "gs1.fit(X_train, y_train)"
   ]
  },
  {
   "cell_type": "code",
   "execution_count": 92,
   "metadata": {},
   "outputs": [
    {
     "data": {
      "text/plain": [
       "0.8815426997245179"
      ]
     },
     "execution_count": 92,
     "metadata": {},
     "output_type": "execute_result"
    }
   ],
   "source": [
    "# Best score\n",
    "gs1.best_score_"
   ]
  },
  {
   "cell_type": "code",
   "execution_count": 93,
   "metadata": {},
   "outputs": [
    {
     "data": {
      "text/plain": [
       "{'cvec__max_df': 0.55, 'cvec__min_df': 50}"
      ]
     },
     "execution_count": 93,
     "metadata": {},
     "output_type": "execute_result"
    }
   ],
   "source": [
    "gs1.best_params_"
   ]
  },
  {
   "cell_type": "code",
   "execution_count": 94,
   "metadata": {},
   "outputs": [],
   "source": [
    "# Save the best model\n",
    "gs1_model = gs1.best_estimator_"
   ]
  },
  {
   "cell_type": "code",
   "execution_count": 95,
   "metadata": {},
   "outputs": [
    {
     "name": "stdout",
     "output_type": "stream",
     "text": [
      "Model_1 Train score: 0.8902007083825265\n",
      "Model_1 Test score: 0.8898643256185156\n"
     ]
    }
   ],
   "source": [
    "# Score best model on train set\n",
    "print(f\"Model_1 Train score: {gs1_model.score(X_train, y_train)}\")\n",
    "# Score best model on test set\n",
    "print(f\"Model_1 Test score: {gs1_model.score(X_test, y_test)}\")"
   ]
  },
  {
   "cell_type": "code",
   "execution_count": 96,
   "metadata": {},
   "outputs": [],
   "source": [
    "# Generate predictions\n",
    "preds =gs1_model.predict(X_test)"
   ]
  },
  {
   "cell_type": "code",
   "execution_count": 97,
   "metadata": {},
   "outputs": [
    {
     "data": {
      "text/plain": [
       "array([[575,  56],\n",
       "       [ 82, 540]], dtype=int64)"
      ]
     },
     "execution_count": 97,
     "metadata": {},
     "output_type": "execute_result"
    }
   ],
   "source": [
    "# Generate confusion matrix\n",
    "confusion_matrix(y_test, # True values\n",
    "                 preds)  # Predicted values"
   ]
  },
  {
   "cell_type": "code",
   "execution_count": 32,
   "metadata": {},
   "outputs": [],
   "source": [
    "tn, fp, fn, tp = confusion_matrix(y_test,\n",
    "                                  preds).ravel()"
   ]
  },
  {
   "cell_type": "code",
   "execution_count": 34,
   "metadata": {},
   "outputs": [
    {
     "data": {
      "text/plain": [
       "101"
      ]
     },
     "execution_count": 34,
     "metadata": {},
     "output_type": "execute_result"
    }
   ],
   "source": [
    "fp"
   ]
  },
  {
   "cell_type": "code",
   "execution_count": 35,
   "metadata": {},
   "outputs": [
    {
     "data": {
      "text/plain": [
       "4"
      ]
     },
     "execution_count": 35,
     "metadata": {},
     "output_type": "execute_result"
    }
   ],
   "source": [
    "fn"
   ]
  },
  {
   "cell_type": "code",
   "execution_count": 36,
   "metadata": {},
   "outputs": [
    {
     "data": {
      "text/plain": [
       "618"
      ]
     },
     "execution_count": 36,
     "metadata": {},
     "output_type": "execute_result"
    }
   ],
   "source": [
    "tp"
   ]
  },
  {
   "cell_type": "code",
   "execution_count": 37,
   "metadata": {},
   "outputs": [
    {
     "data": {
      "text/plain": [
       "2"
      ]
     },
     "execution_count": 37,
     "metadata": {},
     "output_type": "execute_result"
    }
   ],
   "source": [
    "tn"
   ]
  },
  {
   "cell_type": "code",
   "execution_count": null,
   "metadata": {},
   "outputs": [],
   "source": []
  }
 ],
 "metadata": {
  "kernelspec": {
   "display_name": "Python 3",
   "language": "python",
   "name": "python3"
  },
  "language_info": {
   "codemirror_mode": {
    "name": "ipython",
    "version": 3
   },
   "file_extension": ".py",
   "mimetype": "text/x-python",
   "name": "python",
   "nbconvert_exporter": "python",
   "pygments_lexer": "ipython3",
   "version": "3.7.4"
  }
 },
 "nbformat": 4,
 "nbformat_minor": 2
}
